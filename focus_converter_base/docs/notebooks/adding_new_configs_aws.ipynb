{
 "cells": [
  {
   "cell_type": "code",
   "execution_count": 1,
   "id": "initial_id",
   "metadata": {
    "collapsed": true,
    "ExecuteTime": {
     "end_time": "2023-11-10T12:20:49.633742099Z",
     "start_time": "2023-11-10T12:20:49.407956423Z"
    }
   },
   "outputs": [],
   "source": [
    "import polars as pl\n",
    "import pyarrow.dataset as ds"
   ]
  },
  {
   "cell_type": "code",
   "execution_count": 2,
   "outputs": [],
   "source": [
    "dataset = ds.dataset(\"/home/vmittal/focus_test_dataset\", format=\"parquet\")"
   ],
   "metadata": {
    "collapsed": false,
    "ExecuteTime": {
     "end_time": "2023-11-10T12:20:49.698749219Z",
     "start_time": "2023-11-10T12:20:49.636420513Z"
    }
   },
   "id": "e789c90e4ffb0b48"
  },
  {
   "cell_type": "code",
   "execution_count": 3,
   "outputs": [],
   "source": [
    "lf = pl.scan_pyarrow_dataset(dataset).limit(100)"
   ],
   "metadata": {
    "collapsed": false,
    "ExecuteTime": {
     "end_time": "2023-11-10T12:20:50.482733786Z",
     "start_time": "2023-11-10T12:20:50.478299407Z"
    }
   },
   "id": "2cf1f603a4fd6564"
  },
  {
   "cell_type": "code",
   "execution_count": 4,
   "outputs": [
    {
     "data": {
      "text/plain": "shape: (100, 160)\n┌────────────┬────────────┬────────────┬────────────┬───┬───────┬──────────┬───────────┬───────────┐\n│ aws_identi ┆ aws_identi ┆ aws_bill_i ┆ aws_bill_i ┆ … ┆ Month ┆ PROVIDER ┆ BillingAc ┆ Partition │\n│ ty_line_it ┆ ty_time_in ┆ nvoice_id  ┆ nvoicing_e ┆   ┆ ---   ┆ ---      ┆ countId   ┆ ---       │\n│ em_id      ┆ terval     ┆ ---        ┆ ntity      ┆   ┆ i64   ┆ str      ┆ ---       ┆ i64       │\n│ ---        ┆ ---        ┆ str        ┆ ---        ┆   ┆       ┆          ┆ i64       ┆           │\n│ str        ┆ str        ┆            ┆ str        ┆   ┆       ┆          ┆           ┆           │\n╞════════════╪════════════╪════════════╪════════════╪═══╪═══════╪══════════╪═══════════╪═══════════╡\n│ 7pnk3kf4ua ┆ 2023-10-01 ┆            ┆ Amazon Web ┆ … ┆ 10    ┆ aws-cur  ┆ 258510396 ┆ 0         │\n│ pg2fstlw3j ┆ T00:00:00Z ┆            ┆ Services,  ┆   ┆       ┆          ┆ 080       ┆           │\n│ jigbdxsblc ┆ /2023-10-0 ┆            ┆ Inc.       ┆   ┆       ┆          ┆           ┆           │\n│ d7…        ┆ 2T…        ┆            ┆            ┆   ┆       ┆          ┆           ┆           │\n│ olslmmdybi ┆ 2023-10-01 ┆            ┆ Amazon Web ┆ … ┆ 10    ┆ aws-cur  ┆ 258510396 ┆ 0         │\n│ ydovubofs4 ┆ T00:00:00Z ┆            ┆ Services,  ┆   ┆       ┆          ┆ 080       ┆           │\n│ 3gf7e4f75c ┆ /2023-10-0 ┆            ┆ Inc.       ┆   ┆       ┆          ┆           ┆           │\n│ p3…        ┆ 2T…        ┆            ┆            ┆   ┆       ┆          ┆           ┆           │\n│ yt75akov35 ┆ 2023-10-03 ┆            ┆ Amazon Web ┆ … ┆ 10    ┆ aws-cur  ┆ 258510396 ┆ 0         │\n│ lc3de2e7yr ┆ T00:00:00Z ┆            ┆ Services,  ┆   ┆       ┆          ┆ 080       ┆           │\n│ 5skjt43zrc ┆ /2023-10-0 ┆            ┆ Inc.       ┆   ┆       ┆          ┆           ┆           │\n│ w6…        ┆ 4T…        ┆            ┆            ┆   ┆       ┆          ┆           ┆           │\n│ rdioh5unmy ┆ 2023-10-04 ┆            ┆ Amazon Web ┆ … ┆ 10    ┆ aws-cur  ┆ 258510396 ┆ 0         │\n│ qz7oiepzjb ┆ T00:00:00Z ┆            ┆ Services,  ┆   ┆       ┆          ┆ 080       ┆           │\n│ jmixavgnut ┆ /2023-10-0 ┆            ┆ Inc.       ┆   ┆       ┆          ┆           ┆           │\n│ gt…        ┆ 5T…        ┆            ┆            ┆   ┆       ┆          ┆           ┆           │\n│ …          ┆ …          ┆ …          ┆ …          ┆ … ┆ …     ┆ …        ┆ …         ┆ …         │\n│ syndxk65tf ┆ 2023-10-20 ┆            ┆ Amazon Web ┆ … ┆ 10    ┆ aws-cur  ┆ 258510396 ┆ 0         │\n│ qr7dme2xkh ┆ T00:00:00Z ┆            ┆ Services,  ┆   ┆       ┆          ┆ 080       ┆           │\n│ dcbxfyerdy ┆ /2023-10-2 ┆            ┆ Inc.       ┆   ┆       ┆          ┆           ┆           │\n│ 6a…        ┆ 1T…        ┆            ┆            ┆   ┆       ┆          ┆           ┆           │\n│ bikxdwkiq2 ┆ 2023-10-20 ┆            ┆ Amazon Web ┆ … ┆ 10    ┆ aws-cur  ┆ 258510396 ┆ 0         │\n│ 4keuajsqhb ┆ T00:00:00Z ┆            ┆ Services,  ┆   ┆       ┆          ┆ 080       ┆           │\n│ 7mzouhkh72 ┆ /2023-10-2 ┆            ┆ Inc.       ┆   ┆       ┆          ┆           ┆           │\n│ ey…        ┆ 1T…        ┆            ┆            ┆   ┆       ┆          ┆           ┆           │\n│ vbdqh6xrxy ┆ 2023-10-20 ┆            ┆ Amazon Web ┆ … ┆ 10    ┆ aws-cur  ┆ 258510396 ┆ 0         │\n│ m7qwxzdjx3 ┆ T00:00:00Z ┆            ┆ Services,  ┆   ┆       ┆          ┆ 080       ┆           │\n│ 6daahmnjde ┆ /2023-10-2 ┆            ┆ Inc.       ┆   ┆       ┆          ┆           ┆           │\n│ 3g…        ┆ 1T…        ┆            ┆            ┆   ┆       ┆          ┆           ┆           │\n│ f6qvdclz7k ┆ 2023-10-21 ┆            ┆ Amazon Web ┆ … ┆ 10    ┆ aws-cur  ┆ 258510396 ┆ 0         │\n│ a4p77r6ok7 ┆ T00:00:00Z ┆            ┆ Services,  ┆   ┆       ┆          ┆ 080       ┆           │\n│ jn2xsxvcik ┆ /2023-10-2 ┆            ┆ Inc.       ┆   ┆       ┆          ┆           ┆           │\n│ v2…        ┆ 2T…        ┆            ┆            ┆   ┆       ┆          ┆           ┆           │\n└────────────┴────────────┴────────────┴────────────┴───┴───────┴──────────┴───────────┴───────────┘",
      "text/html": "<div><style>\n.dataframe > thead > tr > th,\n.dataframe > tbody > tr > td {\n  text-align: right;\n  white-space: pre-wrap;\n}\n</style>\n<small>shape: (100, 160)</small><table border=\"1\" class=\"dataframe\"><thead><tr><th>aws_identity_line_item_id</th><th>aws_identity_time_interval</th><th>aws_bill_invoice_id</th><th>aws_bill_invoicing_entity</th><th>aws_bill_billing_entity</th><th>aws_bill_bill_type</th><th>aws_bill_payer_account_id</th><th>aws_bill_billing_period_start_date</th><th>aws_bill_billing_period_end_date</th><th>aws_line_item_usage_account_id</th><th>aws_line_item_line_item_type</th><th>aws_line_item_usage_start_date</th><th>aws_line_item_usage_end_date</th><th>aws_line_item_product_code</th><th>aws_line_item_usage_type</th><th>aws_line_item_operation</th><th>aws_line_item_availability_zone</th><th>aws_line_item_resource_id</th><th>aws_line_item_usage_amount</th><th>aws_line_item_normalization_factor</th><th>aws_line_item_normalized_usage_amount</th><th>aws_line_item_currency_code</th><th>aws_line_item_unblended_rate</th><th>aws_line_item_unblended_cost</th><th>aws_line_item_blended_rate</th><th>aws_line_item_blended_cost</th><th>aws_line_item_line_item_description</th><th>aws_line_item_tax_type</th><th>aws_line_item_legal_entity</th><th>aws_product_product_name</th><th>aws_product_size_flex</th><th>aws_product_alarm_type</th><th>aws_product_availability</th><th>aws_product_availability_zone</th><th>aws_product_backupservice</th><th>aws_product_cache_engine</th><th>aws_product_capacitystatus</th><th>&hellip;</th><th>aws_pricing_public_on_demand_rate</th><th>aws_pricing_term</th><th>aws_pricing_unit</th><th>aws_reservation_amortized_upfront_cost_for_usage</th><th>aws_reservation_amortized_upfront_fee_for_billing_period</th><th>aws_reservation_effective_cost</th><th>aws_reservation_end_time</th><th>aws_reservation_modification_status</th><th>aws_reservation_normalized_units_per_reservation</th><th>aws_reservation_number_of_reservations</th><th>aws_reservation_recurring_fee_for_usage</th><th>aws_reservation_start_time</th><th>aws_reservation_subscription_id</th><th>aws_reservation_total_reserved_normalized_units</th><th>aws_reservation_total_reserved_units</th><th>aws_reservation_units_per_reservation</th><th>aws_reservation_unused_amortized_upfront_fee_for_billing_period</th><th>aws_reservation_unused_normalized_unit_quantity</th><th>aws_reservation_unused_quantity</th><th>aws_reservation_unused_recurring_fee</th><th>aws_reservation_upfront_value</th><th>aws_savings_plan_total_commitment_to_date</th><th>aws_savings_plan_savings_plan_a_r_n</th><th>aws_savings_plan_savings_plan_rate</th><th>aws_savings_plan_used_commitment</th><th>aws_savings_plan_savings_plan_effective_cost</th><th>aws_savings_plan_amortized_upfront_commitment_for_billing_period</th><th>aws_savings_plan_recurring_commitment_for_billing_period</th><th>aws_resource_tags_user_env</th><th>aws_resource_tags_user_service</th><th>Customer</th><th>Run</th><th>Year</th><th>Month</th><th>PROVIDER</th><th>BillingAccountId</th><th>Partition</th></tr><tr><td>str</td><td>str</td><td>str</td><td>str</td><td>str</td><td>str</td><td>str</td><td>datetime[ms]</td><td>datetime[ms]</td><td>str</td><td>str</td><td>datetime[ms]</td><td>datetime[ms]</td><td>str</td><td>str</td><td>str</td><td>str</td><td>str</td><td>f64</td><td>f64</td><td>f64</td><td>str</td><td>str</td><td>f64</td><td>str</td><td>f64</td><td>str</td><td>str</td><td>str</td><td>str</td><td>str</td><td>str</td><td>str</td><td>str</td><td>str</td><td>str</td><td>str</td><td>&hellip;</td><td>str</td><td>str</td><td>str</td><td>f64</td><td>f64</td><td>f64</td><td>str</td><td>str</td><td>str</td><td>str</td><td>f64</td><td>str</td><td>str</td><td>str</td><td>str</td><td>str</td><td>f64</td><td>f64</td><td>f64</td><td>f64</td><td>f64</td><td>f64</td><td>str</td><td>f64</td><td>f64</td><td>f64</td><td>f64</td><td>f64</td><td>str</td><td>str</td><td>str</td><td>str</td><td>i64</td><td>i64</td><td>str</td><td>i64</td><td>i64</td></tr></thead><tbody><tr><td>&quot;7pnk3kf4uapg2f…</td><td>&quot;2023-10-01T00:…</td><td>&quot;&quot;</td><td>&quot;Amazon Web Ser…</td><td>&quot;AWS&quot;</td><td>&quot;Anniversary&quot;</td><td>&quot;258510396080&quot;</td><td>2023-10-01 00:00:00</td><td>2023-11-01 00:00:00</td><td>&quot;442826362253&quot;</td><td>&quot;Usage&quot;</td><td>2023-10-01 00:00:00</td><td>2023-10-02 00:00:00</td><td>&quot;AmazonRDS&quot;</td><td>&quot;USW2-Aurora:Se…</td><td>&quot;CreateDBInstan…</td><td>&quot;us-west-2&quot;</td><td>&quot;arn:aws:rds:us…</td><td>48.0</td><td>0.0</td><td>0.0</td><td>&quot;USD&quot;</td><td>&quot;0.0600000000&quot;</td><td>2.88</td><td>&quot;0.0600000000&quot;</td><td>2.88</td><td>&quot;$0.06 per Auro…</td><td>&quot;&quot;</td><td>&quot;Amazon Web Ser…</td><td>&quot;Amazon Relatio…</td><td>&quot;N/A&quot;</td><td>&quot;&quot;</td><td>&quot;&quot;</td><td>&quot;&quot;</td><td>&quot;&quot;</td><td>&quot;&quot;</td><td>&quot;&quot;</td><td>&hellip;</td><td>&quot;0.0600000000&quot;</td><td>&quot;OnDemand&quot;</td><td>&quot;ACU-Hr&quot;</td><td>0.0</td><td>0.0</td><td>0.0</td><td>&quot;&quot;</td><td>&quot;&quot;</td><td>&quot;&quot;</td><td>&quot;&quot;</td><td>0.0</td><td>&quot;&quot;</td><td>&quot;6653804852&quot;</td><td>&quot;&quot;</td><td>&quot;&quot;</td><td>&quot;&quot;</td><td>0.0</td><td>0.0</td><td>0.0</td><td>0.0</td><td>0.0</td><td>0.0</td><td>&quot;&quot;</td><td>0.0</td><td>0.0</td><td>0.0</td><td>0.0</td><td>0.0</td><td>&quot;&quot;</td><td>&quot;&quot;</td><td>&quot;ced23e22-0723-…</td><td>&quot;test-run-1&quot;</td><td>2023</td><td>10</td><td>&quot;aws-cur&quot;</td><td>258510396080</td><td>0</td></tr><tr><td>&quot;olslmmdybiydov…</td><td>&quot;2023-10-01T00:…</td><td>&quot;&quot;</td><td>&quot;Amazon Web Ser…</td><td>&quot;AWS&quot;</td><td>&quot;Anniversary&quot;</td><td>&quot;258510396080&quot;</td><td>2023-10-01 00:00:00</td><td>2023-11-01 00:00:00</td><td>&quot;731189341161&quot;</td><td>&quot;Usage&quot;</td><td>2023-10-01 00:00:00</td><td>2023-10-02 00:00:00</td><td>&quot;AmazonRDS&quot;</td><td>&quot;USW2-Aurora:Se…</td><td>&quot;CreateDBInstan…</td><td>&quot;us-west-2&quot;</td><td>&quot;arn:aws:rds:us…</td><td>48.0</td><td>0.0</td><td>0.0</td><td>&quot;USD&quot;</td><td>&quot;0.0600000000&quot;</td><td>2.88</td><td>&quot;0.0600000000&quot;</td><td>2.88</td><td>&quot;$0.06 per Auro…</td><td>&quot;&quot;</td><td>&quot;Amazon Web Ser…</td><td>&quot;Amazon Relatio…</td><td>&quot;N/A&quot;</td><td>&quot;&quot;</td><td>&quot;&quot;</td><td>&quot;&quot;</td><td>&quot;&quot;</td><td>&quot;&quot;</td><td>&quot;&quot;</td><td>&hellip;</td><td>&quot;0.0600000000&quot;</td><td>&quot;OnDemand&quot;</td><td>&quot;ACU-Hr&quot;</td><td>0.0</td><td>0.0</td><td>0.0</td><td>&quot;&quot;</td><td>&quot;&quot;</td><td>&quot;&quot;</td><td>&quot;&quot;</td><td>0.0</td><td>&quot;&quot;</td><td>&quot;12117014427&quot;</td><td>&quot;&quot;</td><td>&quot;&quot;</td><td>&quot;&quot;</td><td>0.0</td><td>0.0</td><td>0.0</td><td>0.0</td><td>0.0</td><td>0.0</td><td>&quot;&quot;</td><td>0.0</td><td>0.0</td><td>0.0</td><td>0.0</td><td>0.0</td><td>&quot;&quot;</td><td>&quot;&quot;</td><td>&quot;ced23e22-0723-…</td><td>&quot;test-run-1&quot;</td><td>2023</td><td>10</td><td>&quot;aws-cur&quot;</td><td>258510396080</td><td>0</td></tr><tr><td>&quot;yt75akov35lc3d…</td><td>&quot;2023-10-03T00:…</td><td>&quot;&quot;</td><td>&quot;Amazon Web Ser…</td><td>&quot;AWS&quot;</td><td>&quot;Anniversary&quot;</td><td>&quot;258510396080&quot;</td><td>2023-10-01 00:00:00</td><td>2023-11-01 00:00:00</td><td>&quot;153970874803&quot;</td><td>&quot;Usage&quot;</td><td>2023-10-03 00:00:00</td><td>2023-10-04 00:00:00</td><td>&quot;AmazonRDS&quot;</td><td>&quot;USW2-Aurora:Se…</td><td>&quot;CreateDBInstan…</td><td>&quot;us-west-2&quot;</td><td>&quot;arn:aws:rds:us…</td><td>48.0</td><td>0.0</td><td>0.0</td><td>&quot;USD&quot;</td><td>&quot;0.0600000000&quot;</td><td>2.88</td><td>&quot;0.0600000000&quot;</td><td>2.88</td><td>&quot;$0.06 per Auro…</td><td>&quot;&quot;</td><td>&quot;Amazon Web Ser…</td><td>&quot;Amazon Relatio…</td><td>&quot;N/A&quot;</td><td>&quot;&quot;</td><td>&quot;&quot;</td><td>&quot;&quot;</td><td>&quot;&quot;</td><td>&quot;&quot;</td><td>&quot;&quot;</td><td>&hellip;</td><td>&quot;0.0600000000&quot;</td><td>&quot;OnDemand&quot;</td><td>&quot;ACU-Hr&quot;</td><td>0.0</td><td>0.0</td><td>0.0</td><td>&quot;&quot;</td><td>&quot;&quot;</td><td>&quot;&quot;</td><td>&quot;&quot;</td><td>0.0</td><td>&quot;&quot;</td><td>&quot;7277205853&quot;</td><td>&quot;&quot;</td><td>&quot;&quot;</td><td>&quot;&quot;</td><td>0.0</td><td>0.0</td><td>0.0</td><td>0.0</td><td>0.0</td><td>0.0</td><td>&quot;&quot;</td><td>0.0</td><td>0.0</td><td>0.0</td><td>0.0</td><td>0.0</td><td>&quot;&quot;</td><td>&quot;&quot;</td><td>&quot;ced23e22-0723-…</td><td>&quot;test-run-1&quot;</td><td>2023</td><td>10</td><td>&quot;aws-cur&quot;</td><td>258510396080</td><td>0</td></tr><tr><td>&quot;rdioh5unmyqz7o…</td><td>&quot;2023-10-04T00:…</td><td>&quot;&quot;</td><td>&quot;Amazon Web Ser…</td><td>&quot;AWS&quot;</td><td>&quot;Anniversary&quot;</td><td>&quot;258510396080&quot;</td><td>2023-10-01 00:00:00</td><td>2023-11-01 00:00:00</td><td>&quot;371543525100&quot;</td><td>&quot;Usage&quot;</td><td>2023-10-04 00:00:00</td><td>2023-10-05 00:00:00</td><td>&quot;AmazonRDS&quot;</td><td>&quot;USW2-Aurora:Se…</td><td>&quot;CreateDBInstan…</td><td>&quot;us-west-2&quot;</td><td>&quot;arn:aws:rds:us…</td><td>48.0</td><td>0.0</td><td>0.0</td><td>&quot;USD&quot;</td><td>&quot;0.0600000000&quot;</td><td>2.88</td><td>&quot;0.0600000000&quot;</td><td>2.88</td><td>&quot;$0.06 per Auro…</td><td>&quot;&quot;</td><td>&quot;Amazon Web Ser…</td><td>&quot;Amazon Relatio…</td><td>&quot;N/A&quot;</td><td>&quot;&quot;</td><td>&quot;&quot;</td><td>&quot;&quot;</td><td>&quot;&quot;</td><td>&quot;&quot;</td><td>&quot;&quot;</td><td>&hellip;</td><td>&quot;0.0600000000&quot;</td><td>&quot;OnDemand&quot;</td><td>&quot;ACU-Hr&quot;</td><td>0.0</td><td>0.0</td><td>0.0</td><td>&quot;&quot;</td><td>&quot;&quot;</td><td>&quot;&quot;</td><td>&quot;&quot;</td><td>0.0</td><td>&quot;&quot;</td><td>&quot;8145574161&quot;</td><td>&quot;&quot;</td><td>&quot;&quot;</td><td>&quot;&quot;</td><td>0.0</td><td>0.0</td><td>0.0</td><td>0.0</td><td>0.0</td><td>0.0</td><td>&quot;&quot;</td><td>0.0</td><td>0.0</td><td>0.0</td><td>0.0</td><td>0.0</td><td>&quot;&quot;</td><td>&quot;&quot;</td><td>&quot;ced23e22-0723-…</td><td>&quot;test-run-1&quot;</td><td>2023</td><td>10</td><td>&quot;aws-cur&quot;</td><td>258510396080</td><td>0</td></tr><tr><td>&quot;gqedmp2sbfz4bg…</td><td>&quot;2023-10-04T00:…</td><td>&quot;&quot;</td><td>&quot;Amazon Web Ser…</td><td>&quot;AWS&quot;</td><td>&quot;Anniversary&quot;</td><td>&quot;258510396080&quot;</td><td>2023-10-01 00:00:00</td><td>2023-11-01 00:00:00</td><td>&quot;773286495109&quot;</td><td>&quot;Usage&quot;</td><td>2023-10-04 00:00:00</td><td>2023-10-05 00:00:00</td><td>&quot;AmazonRDS&quot;</td><td>&quot;USW2-Aurora:Se…</td><td>&quot;CreateDBInstan…</td><td>&quot;us-west-2&quot;</td><td>&quot;arn:aws:rds:us…</td><td>48.0</td><td>0.0</td><td>0.0</td><td>&quot;USD&quot;</td><td>&quot;0.0600000000&quot;</td><td>2.88</td><td>&quot;0.0600000000&quot;</td><td>2.88</td><td>&quot;$0.06 per Auro…</td><td>&quot;&quot;</td><td>&quot;Amazon Web Ser…</td><td>&quot;Amazon Relatio…</td><td>&quot;N/A&quot;</td><td>&quot;&quot;</td><td>&quot;&quot;</td><td>&quot;&quot;</td><td>&quot;&quot;</td><td>&quot;&quot;</td><td>&quot;&quot;</td><td>&hellip;</td><td>&quot;0.0600000000&quot;</td><td>&quot;OnDemand&quot;</td><td>&quot;ACU-Hr&quot;</td><td>0.0</td><td>0.0</td><td>0.0</td><td>&quot;&quot;</td><td>&quot;&quot;</td><td>&quot;&quot;</td><td>&quot;&quot;</td><td>0.0</td><td>&quot;&quot;</td><td>&quot;6718751006&quot;</td><td>&quot;&quot;</td><td>&quot;&quot;</td><td>&quot;&quot;</td><td>0.0</td><td>0.0</td><td>0.0</td><td>0.0</td><td>0.0</td><td>0.0</td><td>&quot;&quot;</td><td>0.0</td><td>0.0</td><td>0.0</td><td>0.0</td><td>0.0</td><td>&quot;&quot;</td><td>&quot;&quot;</td><td>&quot;ced23e22-0723-…</td><td>&quot;test-run-1&quot;</td><td>2023</td><td>10</td><td>&quot;aws-cur&quot;</td><td>258510396080</td><td>0</td></tr><tr><td>&quot;3hgko3fzkkbibz…</td><td>&quot;2023-10-05T00:…</td><td>&quot;&quot;</td><td>&quot;Amazon Web Ser…</td><td>&quot;AWS&quot;</td><td>&quot;Anniversary&quot;</td><td>&quot;258510396080&quot;</td><td>2023-10-01 00:00:00</td><td>2023-11-01 00:00:00</td><td>&quot;927463853868&quot;</td><td>&quot;Usage&quot;</td><td>2023-10-05 00:00:00</td><td>2023-10-06 00:00:00</td><td>&quot;AmazonRDS&quot;</td><td>&quot;USW2-Aurora:Se…</td><td>&quot;CreateDBInstan…</td><td>&quot;us-west-2&quot;</td><td>&quot;arn:aws:rds:us…</td><td>48.0</td><td>0.0</td><td>0.0</td><td>&quot;USD&quot;</td><td>&quot;0.0600000000&quot;</td><td>2.88</td><td>&quot;0.0600000000&quot;</td><td>2.88</td><td>&quot;$0.06 per Auro…</td><td>&quot;&quot;</td><td>&quot;Amazon Web Ser…</td><td>&quot;Amazon Relatio…</td><td>&quot;N/A&quot;</td><td>&quot;&quot;</td><td>&quot;&quot;</td><td>&quot;&quot;</td><td>&quot;&quot;</td><td>&quot;&quot;</td><td>&quot;&quot;</td><td>&hellip;</td><td>&quot;0.0600000000&quot;</td><td>&quot;OnDemand&quot;</td><td>&quot;ACU-Hr&quot;</td><td>0.0</td><td>0.0</td><td>0.0</td><td>&quot;&quot;</td><td>&quot;&quot;</td><td>&quot;&quot;</td><td>&quot;&quot;</td><td>0.0</td><td>&quot;&quot;</td><td>&quot;6535079819&quot;</td><td>&quot;&quot;</td><td>&quot;&quot;</td><td>&quot;&quot;</td><td>0.0</td><td>0.0</td><td>0.0</td><td>0.0</td><td>0.0</td><td>0.0</td><td>&quot;&quot;</td><td>0.0</td><td>0.0</td><td>0.0</td><td>0.0</td><td>0.0</td><td>&quot;&quot;</td><td>&quot;&quot;</td><td>&quot;ced23e22-0723-…</td><td>&quot;test-run-1&quot;</td><td>2023</td><td>10</td><td>&quot;aws-cur&quot;</td><td>258510396080</td><td>0</td></tr><tr><td>&quot;nafg54wb4bbbeg…</td><td>&quot;2023-10-06T00:…</td><td>&quot;&quot;</td><td>&quot;Amazon Web Ser…</td><td>&quot;AWS&quot;</td><td>&quot;Anniversary&quot;</td><td>&quot;258510396080&quot;</td><td>2023-10-01 00:00:00</td><td>2023-11-01 00:00:00</td><td>&quot;521834257633&quot;</td><td>&quot;Usage&quot;</td><td>2023-10-06 00:00:00</td><td>2023-10-07 00:00:00</td><td>&quot;AmazonRDS&quot;</td><td>&quot;USW2-Aurora:Se…</td><td>&quot;CreateDBInstan…</td><td>&quot;us-west-2&quot;</td><td>&quot;arn:aws:rds:us…</td><td>48.0</td><td>0.0</td><td>0.0</td><td>&quot;USD&quot;</td><td>&quot;0.0600000000&quot;</td><td>2.88</td><td>&quot;0.0600000000&quot;</td><td>2.88</td><td>&quot;$0.06 per Auro…</td><td>&quot;&quot;</td><td>&quot;Amazon Web Ser…</td><td>&quot;Amazon Relatio…</td><td>&quot;N/A&quot;</td><td>&quot;&quot;</td><td>&quot;&quot;</td><td>&quot;&quot;</td><td>&quot;&quot;</td><td>&quot;&quot;</td><td>&quot;&quot;</td><td>&hellip;</td><td>&quot;0.0600000000&quot;</td><td>&quot;OnDemand&quot;</td><td>&quot;ACU-Hr&quot;</td><td>0.0</td><td>0.0</td><td>0.0</td><td>&quot;&quot;</td><td>&quot;&quot;</td><td>&quot;&quot;</td><td>&quot;&quot;</td><td>0.0</td><td>&quot;&quot;</td><td>&quot;11616330429&quot;</td><td>&quot;&quot;</td><td>&quot;&quot;</td><td>&quot;&quot;</td><td>0.0</td><td>0.0</td><td>0.0</td><td>0.0</td><td>0.0</td><td>0.0</td><td>&quot;&quot;</td><td>0.0</td><td>0.0</td><td>0.0</td><td>0.0</td><td>0.0</td><td>&quot;&quot;</td><td>&quot;&quot;</td><td>&quot;ced23e22-0723-…</td><td>&quot;test-run-1&quot;</td><td>2023</td><td>10</td><td>&quot;aws-cur&quot;</td><td>258510396080</td><td>0</td></tr><tr><td>&quot;bcspyikotuto5t…</td><td>&quot;2023-10-06T00:…</td><td>&quot;&quot;</td><td>&quot;Amazon Web Ser…</td><td>&quot;AWS&quot;</td><td>&quot;Anniversary&quot;</td><td>&quot;258510396080&quot;</td><td>2023-10-01 00:00:00</td><td>2023-11-01 00:00:00</td><td>&quot;778203455234&quot;</td><td>&quot;Usage&quot;</td><td>2023-10-06 00:00:00</td><td>2023-10-07 00:00:00</td><td>&quot;AmazonRDS&quot;</td><td>&quot;USW2-Aurora:Se…</td><td>&quot;CreateDBInstan…</td><td>&quot;us-west-2&quot;</td><td>&quot;arn:aws:rds:us…</td><td>48.0</td><td>0.0</td><td>0.0</td><td>&quot;USD&quot;</td><td>&quot;0.0600000000&quot;</td><td>2.88</td><td>&quot;0.0600000000&quot;</td><td>2.88</td><td>&quot;$0.06 per Auro…</td><td>&quot;&quot;</td><td>&quot;Amazon Web Ser…</td><td>&quot;Amazon Relatio…</td><td>&quot;N/A&quot;</td><td>&quot;&quot;</td><td>&quot;&quot;</td><td>&quot;&quot;</td><td>&quot;&quot;</td><td>&quot;&quot;</td><td>&quot;&quot;</td><td>&hellip;</td><td>&quot;0.0600000000&quot;</td><td>&quot;OnDemand&quot;</td><td>&quot;ACU-Hr&quot;</td><td>0.0</td><td>0.0</td><td>0.0</td><td>&quot;&quot;</td><td>&quot;&quot;</td><td>&quot;&quot;</td><td>&quot;&quot;</td><td>0.0</td><td>&quot;&quot;</td><td>&quot;7271633652&quot;</td><td>&quot;&quot;</td><td>&quot;&quot;</td><td>&quot;&quot;</td><td>0.0</td><td>0.0</td><td>0.0</td><td>0.0</td><td>0.0</td><td>0.0</td><td>&quot;&quot;</td><td>0.0</td><td>0.0</td><td>0.0</td><td>0.0</td><td>0.0</td><td>&quot;&quot;</td><td>&quot;&quot;</td><td>&quot;ced23e22-0723-…</td><td>&quot;test-run-1&quot;</td><td>2023</td><td>10</td><td>&quot;aws-cur&quot;</td><td>258510396080</td><td>0</td></tr><tr><td>&quot;vvq3jktfqxh7eq…</td><td>&quot;2023-10-07T00:…</td><td>&quot;&quot;</td><td>&quot;Amazon Web Ser…</td><td>&quot;AWS&quot;</td><td>&quot;Anniversary&quot;</td><td>&quot;258510396080&quot;</td><td>2023-10-01 00:00:00</td><td>2023-11-01 00:00:00</td><td>&quot;168414732187&quot;</td><td>&quot;Usage&quot;</td><td>2023-10-07 00:00:00</td><td>2023-10-08 00:00:00</td><td>&quot;AmazonRDS&quot;</td><td>&quot;USW2-Aurora:Se…</td><td>&quot;CreateDBInstan…</td><td>&quot;us-west-2&quot;</td><td>&quot;arn:aws:rds:us…</td><td>48.0</td><td>0.0</td><td>0.0</td><td>&quot;USD&quot;</td><td>&quot;0.0600000000&quot;</td><td>2.88</td><td>&quot;0.0600000000&quot;</td><td>2.88</td><td>&quot;$0.06 per Auro…</td><td>&quot;&quot;</td><td>&quot;Amazon Web Ser…</td><td>&quot;Amazon Relatio…</td><td>&quot;N/A&quot;</td><td>&quot;&quot;</td><td>&quot;&quot;</td><td>&quot;&quot;</td><td>&quot;&quot;</td><td>&quot;&quot;</td><td>&quot;&quot;</td><td>&hellip;</td><td>&quot;0.0600000000&quot;</td><td>&quot;OnDemand&quot;</td><td>&quot;ACU-Hr&quot;</td><td>0.0</td><td>0.0</td><td>0.0</td><td>&quot;&quot;</td><td>&quot;&quot;</td><td>&quot;&quot;</td><td>&quot;&quot;</td><td>0.0</td><td>&quot;&quot;</td><td>&quot;11828373973&quot;</td><td>&quot;&quot;</td><td>&quot;&quot;</td><td>&quot;&quot;</td><td>0.0</td><td>0.0</td><td>0.0</td><td>0.0</td><td>0.0</td><td>0.0</td><td>&quot;&quot;</td><td>0.0</td><td>0.0</td><td>0.0</td><td>0.0</td><td>0.0</td><td>&quot;&quot;</td><td>&quot;&quot;</td><td>&quot;ced23e22-0723-…</td><td>&quot;test-run-1&quot;</td><td>2023</td><td>10</td><td>&quot;aws-cur&quot;</td><td>258510396080</td><td>0</td></tr><tr><td>&quot;5d3xjslejjy3il…</td><td>&quot;2023-10-08T00:…</td><td>&quot;&quot;</td><td>&quot;Amazon Web Ser…</td><td>&quot;AWS&quot;</td><td>&quot;Anniversary&quot;</td><td>&quot;258510396080&quot;</td><td>2023-10-01 00:00:00</td><td>2023-11-01 00:00:00</td><td>&quot;733230364923&quot;</td><td>&quot;Usage&quot;</td><td>2023-10-08 00:00:00</td><td>2023-10-09 00:00:00</td><td>&quot;AmazonRDS&quot;</td><td>&quot;USW2-Aurora:Se…</td><td>&quot;CreateDBInstan…</td><td>&quot;us-west-2&quot;</td><td>&quot;arn:aws:rds:us…</td><td>48.0</td><td>0.0</td><td>0.0</td><td>&quot;USD&quot;</td><td>&quot;0.0600000000&quot;</td><td>2.88</td><td>&quot;0.0600000000&quot;</td><td>2.88</td><td>&quot;$0.06 per Auro…</td><td>&quot;&quot;</td><td>&quot;Amazon Web Ser…</td><td>&quot;Amazon Relatio…</td><td>&quot;N/A&quot;</td><td>&quot;&quot;</td><td>&quot;&quot;</td><td>&quot;&quot;</td><td>&quot;&quot;</td><td>&quot;&quot;</td><td>&quot;&quot;</td><td>&hellip;</td><td>&quot;0.0600000000&quot;</td><td>&quot;OnDemand&quot;</td><td>&quot;ACU-Hr&quot;</td><td>0.0</td><td>0.0</td><td>0.0</td><td>&quot;&quot;</td><td>&quot;&quot;</td><td>&quot;&quot;</td><td>&quot;&quot;</td><td>0.0</td><td>&quot;&quot;</td><td>&quot;12574741658&quot;</td><td>&quot;&quot;</td><td>&quot;&quot;</td><td>&quot;&quot;</td><td>0.0</td><td>0.0</td><td>0.0</td><td>0.0</td><td>0.0</td><td>0.0</td><td>&quot;&quot;</td><td>0.0</td><td>0.0</td><td>0.0</td><td>0.0</td><td>0.0</td><td>&quot;&quot;</td><td>&quot;&quot;</td><td>&quot;ced23e22-0723-…</td><td>&quot;test-run-1&quot;</td><td>2023</td><td>10</td><td>&quot;aws-cur&quot;</td><td>258510396080</td><td>0</td></tr><tr><td>&quot;wryszuoexk2feo…</td><td>&quot;2023-10-08T00:…</td><td>&quot;&quot;</td><td>&quot;Amazon Web Ser…</td><td>&quot;AWS&quot;</td><td>&quot;Anniversary&quot;</td><td>&quot;258510396080&quot;</td><td>2023-10-01 00:00:00</td><td>2023-11-01 00:00:00</td><td>&quot;946813604067&quot;</td><td>&quot;Usage&quot;</td><td>2023-10-08 00:00:00</td><td>2023-10-09 00:00:00</td><td>&quot;AmazonRDS&quot;</td><td>&quot;USW2-Aurora:Se…</td><td>&quot;CreateDBInstan…</td><td>&quot;us-west-2&quot;</td><td>&quot;arn:aws:rds:us…</td><td>48.0</td><td>0.0</td><td>0.0</td><td>&quot;USD&quot;</td><td>&quot;0.0600000000&quot;</td><td>2.88</td><td>&quot;0.0600000000&quot;</td><td>2.88</td><td>&quot;$0.06 per Auro…</td><td>&quot;&quot;</td><td>&quot;Amazon Web Ser…</td><td>&quot;Amazon Relatio…</td><td>&quot;N/A&quot;</td><td>&quot;&quot;</td><td>&quot;&quot;</td><td>&quot;&quot;</td><td>&quot;&quot;</td><td>&quot;&quot;</td><td>&quot;&quot;</td><td>&hellip;</td><td>&quot;0.0600000000&quot;</td><td>&quot;OnDemand&quot;</td><td>&quot;ACU-Hr&quot;</td><td>0.0</td><td>0.0</td><td>0.0</td><td>&quot;&quot;</td><td>&quot;&quot;</td><td>&quot;&quot;</td><td>&quot;&quot;</td><td>0.0</td><td>&quot;&quot;</td><td>&quot;12497973462&quot;</td><td>&quot;&quot;</td><td>&quot;&quot;</td><td>&quot;&quot;</td><td>0.0</td><td>0.0</td><td>0.0</td><td>0.0</td><td>0.0</td><td>0.0</td><td>&quot;&quot;</td><td>0.0</td><td>0.0</td><td>0.0</td><td>0.0</td><td>0.0</td><td>&quot;&quot;</td><td>&quot;&quot;</td><td>&quot;ced23e22-0723-…</td><td>&quot;test-run-1&quot;</td><td>2023</td><td>10</td><td>&quot;aws-cur&quot;</td><td>258510396080</td><td>0</td></tr><tr><td>&quot;mnxrtirv4s26vs…</td><td>&quot;2023-10-09T00:…</td><td>&quot;&quot;</td><td>&quot;Amazon Web Ser…</td><td>&quot;AWS&quot;</td><td>&quot;Anniversary&quot;</td><td>&quot;258510396080&quot;</td><td>2023-10-01 00:00:00</td><td>2023-11-01 00:00:00</td><td>&quot;694900032590&quot;</td><td>&quot;Usage&quot;</td><td>2023-10-09 00:00:00</td><td>2023-10-10 00:00:00</td><td>&quot;AmazonRDS&quot;</td><td>&quot;USW2-Aurora:Se…</td><td>&quot;CreateDBInstan…</td><td>&quot;us-west-2&quot;</td><td>&quot;arn:aws:rds:us…</td><td>48.0</td><td>0.0</td><td>0.0</td><td>&quot;USD&quot;</td><td>&quot;0.0600000000&quot;</td><td>2.88</td><td>&quot;0.0600000000&quot;</td><td>2.88</td><td>&quot;$0.06 per Auro…</td><td>&quot;&quot;</td><td>&quot;Amazon Web Ser…</td><td>&quot;Amazon Relatio…</td><td>&quot;N/A&quot;</td><td>&quot;&quot;</td><td>&quot;&quot;</td><td>&quot;&quot;</td><td>&quot;&quot;</td><td>&quot;&quot;</td><td>&quot;&quot;</td><td>&hellip;</td><td>&quot;0.0600000000&quot;</td><td>&quot;OnDemand&quot;</td><td>&quot;ACU-Hr&quot;</td><td>0.0</td><td>0.0</td><td>0.0</td><td>&quot;&quot;</td><td>&quot;&quot;</td><td>&quot;&quot;</td><td>&quot;&quot;</td><td>0.0</td><td>&quot;&quot;</td><td>&quot;12263922958&quot;</td><td>&quot;&quot;</td><td>&quot;&quot;</td><td>&quot;&quot;</td><td>0.0</td><td>0.0</td><td>0.0</td><td>0.0</td><td>0.0</td><td>0.0</td><td>&quot;&quot;</td><td>0.0</td><td>0.0</td><td>0.0</td><td>0.0</td><td>0.0</td><td>&quot;&quot;</td><td>&quot;&quot;</td><td>&quot;ced23e22-0723-…</td><td>&quot;test-run-1&quot;</td><td>2023</td><td>10</td><td>&quot;aws-cur&quot;</td><td>258510396080</td><td>0</td></tr><tr><td>&hellip;</td><td>&hellip;</td><td>&hellip;</td><td>&hellip;</td><td>&hellip;</td><td>&hellip;</td><td>&hellip;</td><td>&hellip;</td><td>&hellip;</td><td>&hellip;</td><td>&hellip;</td><td>&hellip;</td><td>&hellip;</td><td>&hellip;</td><td>&hellip;</td><td>&hellip;</td><td>&hellip;</td><td>&hellip;</td><td>&hellip;</td><td>&hellip;</td><td>&hellip;</td><td>&hellip;</td><td>&hellip;</td><td>&hellip;</td><td>&hellip;</td><td>&hellip;</td><td>&hellip;</td><td>&hellip;</td><td>&hellip;</td><td>&hellip;</td><td>&hellip;</td><td>&hellip;</td><td>&hellip;</td><td>&hellip;</td><td>&hellip;</td><td>&hellip;</td><td>&hellip;</td><td>&hellip;</td><td>&hellip;</td><td>&hellip;</td><td>&hellip;</td><td>&hellip;</td><td>&hellip;</td><td>&hellip;</td><td>&hellip;</td><td>&hellip;</td><td>&hellip;</td><td>&hellip;</td><td>&hellip;</td><td>&hellip;</td><td>&hellip;</td><td>&hellip;</td><td>&hellip;</td><td>&hellip;</td><td>&hellip;</td><td>&hellip;</td><td>&hellip;</td><td>&hellip;</td><td>&hellip;</td><td>&hellip;</td><td>&hellip;</td><td>&hellip;</td><td>&hellip;</td><td>&hellip;</td><td>&hellip;</td><td>&hellip;</td><td>&hellip;</td><td>&hellip;</td><td>&hellip;</td><td>&hellip;</td><td>&hellip;</td><td>&hellip;</td><td>&hellip;</td><td>&hellip;</td><td>&hellip;</td></tr><tr><td>&quot;74twfy4ri4syuz…</td><td>&quot;2023-10-16T00:…</td><td>&quot;&quot;</td><td>&quot;Amazon Web Ser…</td><td>&quot;AWS&quot;</td><td>&quot;Anniversary&quot;</td><td>&quot;258510396080&quot;</td><td>2023-10-01 00:00:00</td><td>2023-11-01 00:00:00</td><td>&quot;606103309715&quot;</td><td>&quot;Usage&quot;</td><td>2023-10-16 00:00:00</td><td>2023-10-17 00:00:00</td><td>&quot;AmazonDynamoDB…</td><td>&quot;USW2-ReadReque…</td><td>&quot;PayPerRequestT…</td><td>&quot;us-west-2&quot;</td><td>&quot;arn:aws:dynamo…</td><td>9260.5</td><td>0.0</td><td>0.0</td><td>&quot;USD&quot;</td><td>&quot;0.0000002500&quot;</td><td>0.002315</td><td>&quot;0.0000002500&quot;</td><td>0.002315</td><td>&quot;$0.25 per mill…</td><td>&quot;&quot;</td><td>&quot;Amazon Web Ser…</td><td>&quot;Amazon DynamoD…</td><td>&quot;N/A&quot;</td><td>&quot;&quot;</td><td>&quot;&quot;</td><td>&quot;&quot;</td><td>&quot;&quot;</td><td>&quot;&quot;</td><td>&quot;&quot;</td><td>&hellip;</td><td>&quot;0.0000002500&quot;</td><td>&quot;OnDemand&quot;</td><td>&quot;ReadRequestUni…</td><td>0.0</td><td>0.0</td><td>0.0</td><td>&quot;&quot;</td><td>&quot;&quot;</td><td>&quot;&quot;</td><td>&quot;&quot;</td><td>0.0</td><td>&quot;&quot;</td><td>&quot;2055759893&quot;</td><td>&quot;&quot;</td><td>&quot;&quot;</td><td>&quot;&quot;</td><td>0.0</td><td>0.0</td><td>0.0</td><td>0.0</td><td>0.0</td><td>0.0</td><td>&quot;&quot;</td><td>0.0</td><td>0.0</td><td>0.0</td><td>0.0</td><td>0.0</td><td>&quot;&quot;</td><td>&quot;&quot;</td><td>&quot;ced23e22-0723-…</td><td>&quot;test-run-1&quot;</td><td>2023</td><td>10</td><td>&quot;aws-cur&quot;</td><td>258510396080</td><td>0</td></tr><tr><td>&quot;3ccaonydbpb4qr…</td><td>&quot;2023-10-16T00:…</td><td>&quot;&quot;</td><td>&quot;Amazon Web Ser…</td><td>&quot;AWS&quot;</td><td>&quot;Anniversary&quot;</td><td>&quot;258510396080&quot;</td><td>2023-10-01 00:00:00</td><td>2023-11-01 00:00:00</td><td>&quot;606103309715&quot;</td><td>&quot;Usage&quot;</td><td>2023-10-16 00:00:00</td><td>2023-10-16 19:00:00</td><td>&quot;AmazonDynamoDB…</td><td>&quot;USW2-ReadReque…</td><td>&quot;PayPerRequestT…</td><td>&quot;us-west-2&quot;</td><td>&quot;arn:aws:dynamo…</td><td>1155.5</td><td>0.0</td><td>0.0</td><td>&quot;USD&quot;</td><td>&quot;0.0000002500&quot;</td><td>0.000289</td><td>&quot;0.0000002500&quot;</td><td>0.000289</td><td>&quot;$0.25 per mill…</td><td>&quot;&quot;</td><td>&quot;Amazon Web Ser…</td><td>&quot;Amazon DynamoD…</td><td>&quot;N/A&quot;</td><td>&quot;&quot;</td><td>&quot;&quot;</td><td>&quot;&quot;</td><td>&quot;&quot;</td><td>&quot;&quot;</td><td>&quot;&quot;</td><td>&hellip;</td><td>&quot;0.0000002500&quot;</td><td>&quot;OnDemand&quot;</td><td>&quot;ReadRequestUni…</td><td>0.0</td><td>0.0</td><td>0.0</td><td>&quot;&quot;</td><td>&quot;&quot;</td><td>&quot;&quot;</td><td>&quot;&quot;</td><td>0.0</td><td>&quot;&quot;</td><td>&quot;2055759893&quot;</td><td>&quot;&quot;</td><td>&quot;&quot;</td><td>&quot;&quot;</td><td>0.0</td><td>0.0</td><td>0.0</td><td>0.0</td><td>0.0</td><td>0.0</td><td>&quot;&quot;</td><td>0.0</td><td>0.0</td><td>0.0</td><td>0.0</td><td>0.0</td><td>&quot;&quot;</td><td>&quot;&quot;</td><td>&quot;ced23e22-0723-…</td><td>&quot;test-run-1&quot;</td><td>2023</td><td>10</td><td>&quot;aws-cur&quot;</td><td>258510396080</td><td>0</td></tr><tr><td>&quot;3ccaonydbpb4qr…</td><td>&quot;2023-10-17T00:…</td><td>&quot;&quot;</td><td>&quot;Amazon Web Ser…</td><td>&quot;AWS&quot;</td><td>&quot;Anniversary&quot;</td><td>&quot;258510396080&quot;</td><td>2023-10-01 00:00:00</td><td>2023-11-01 00:00:00</td><td>&quot;606103309715&quot;</td><td>&quot;Usage&quot;</td><td>2023-10-17 00:00:00</td><td>2023-10-18 00:00:00</td><td>&quot;AmazonDynamoDB…</td><td>&quot;USW2-ReadReque…</td><td>&quot;PayPerRequestT…</td><td>&quot;us-west-2&quot;</td><td>&quot;arn:aws:dynamo…</td><td>1058.0</td><td>0.0</td><td>0.0</td><td>&quot;USD&quot;</td><td>&quot;0.0000002500&quot;</td><td>0.0002645</td><td>&quot;0.0000002500&quot;</td><td>0.0002645</td><td>&quot;$0.25 per mill…</td><td>&quot;&quot;</td><td>&quot;Amazon Web Ser…</td><td>&quot;Amazon DynamoD…</td><td>&quot;N/A&quot;</td><td>&quot;&quot;</td><td>&quot;&quot;</td><td>&quot;&quot;</td><td>&quot;&quot;</td><td>&quot;&quot;</td><td>&quot;&quot;</td><td>&hellip;</td><td>&quot;0.0000002500&quot;</td><td>&quot;OnDemand&quot;</td><td>&quot;ReadRequestUni…</td><td>0.0</td><td>0.0</td><td>0.0</td><td>&quot;&quot;</td><td>&quot;&quot;</td><td>&quot;&quot;</td><td>&quot;&quot;</td><td>0.0</td><td>&quot;&quot;</td><td>&quot;2055759893&quot;</td><td>&quot;&quot;</td><td>&quot;&quot;</td><td>&quot;&quot;</td><td>0.0</td><td>0.0</td><td>0.0</td><td>0.0</td><td>0.0</td><td>0.0</td><td>&quot;&quot;</td><td>0.0</td><td>0.0</td><td>0.0</td><td>0.0</td><td>0.0</td><td>&quot;&quot;</td><td>&quot;&quot;</td><td>&quot;ced23e22-0723-…</td><td>&quot;test-run-1&quot;</td><td>2023</td><td>10</td><td>&quot;aws-cur&quot;</td><td>258510396080</td><td>0</td></tr><tr><td>&quot;3ccaonydbpb4qr…</td><td>&quot;2023-10-18T00:…</td><td>&quot;&quot;</td><td>&quot;Amazon Web Ser…</td><td>&quot;AWS&quot;</td><td>&quot;Anniversary&quot;</td><td>&quot;258510396080&quot;</td><td>2023-10-01 00:00:00</td><td>2023-11-01 00:00:00</td><td>&quot;606103309715&quot;</td><td>&quot;Usage&quot;</td><td>2023-10-18 00:00:00</td><td>2023-10-18 19:00:00</td><td>&quot;AmazonDynamoDB…</td><td>&quot;USW2-ReadReque…</td><td>&quot;PayPerRequestT…</td><td>&quot;us-west-2&quot;</td><td>&quot;arn:aws:dynamo…</td><td>1046.5</td><td>0.0</td><td>0.0</td><td>&quot;USD&quot;</td><td>&quot;0.0000002500&quot;</td><td>0.000262</td><td>&quot;0.0000002500&quot;</td><td>0.000262</td><td>&quot;$0.25 per mill…</td><td>&quot;&quot;</td><td>&quot;Amazon Web Ser…</td><td>&quot;Amazon DynamoD…</td><td>&quot;N/A&quot;</td><td>&quot;&quot;</td><td>&quot;&quot;</td><td>&quot;&quot;</td><td>&quot;&quot;</td><td>&quot;&quot;</td><td>&quot;&quot;</td><td>&hellip;</td><td>&quot;0.0000002500&quot;</td><td>&quot;OnDemand&quot;</td><td>&quot;ReadRequestUni…</td><td>0.0</td><td>0.0</td><td>0.0</td><td>&quot;&quot;</td><td>&quot;&quot;</td><td>&quot;&quot;</td><td>&quot;&quot;</td><td>0.0</td><td>&quot;&quot;</td><td>&quot;2055759893&quot;</td><td>&quot;&quot;</td><td>&quot;&quot;</td><td>&quot;&quot;</td><td>0.0</td><td>0.0</td><td>0.0</td><td>0.0</td><td>0.0</td><td>0.0</td><td>&quot;&quot;</td><td>0.0</td><td>0.0</td><td>0.0</td><td>0.0</td><td>0.0</td><td>&quot;&quot;</td><td>&quot;&quot;</td><td>&quot;ced23e22-0723-…</td><td>&quot;test-run-1&quot;</td><td>2023</td><td>10</td><td>&quot;aws-cur&quot;</td><td>258510396080</td><td>0</td></tr><tr><td>&quot;lh25v4ixo7ymjf…</td><td>&quot;2023-10-19T00:…</td><td>&quot;&quot;</td><td>&quot;Amazon Web Ser…</td><td>&quot;AWS&quot;</td><td>&quot;Anniversary&quot;</td><td>&quot;258510396080&quot;</td><td>2023-10-01 00:00:00</td><td>2023-11-01 00:00:00</td><td>&quot;136981179349&quot;</td><td>&quot;Usage&quot;</td><td>2023-10-19 14:00:00</td><td>2023-10-19 15:00:00</td><td>&quot;AmazonDynamoDB…</td><td>&quot;USW2-ReadReque…</td><td>&quot;PayPerRequestT…</td><td>&quot;us-west-2&quot;</td><td>&quot;arn:aws:dynamo…</td><td>0.5</td><td>0.0</td><td>0.0</td><td>&quot;USD&quot;</td><td>&quot;0.0000002500&quot;</td><td>1.2500e-7</td><td>&quot;0.0000002500&quot;</td><td>1.2500e-7</td><td>&quot;$0.25 per mill…</td><td>&quot;&quot;</td><td>&quot;Amazon Web Ser…</td><td>&quot;Amazon DynamoD…</td><td>&quot;N/A&quot;</td><td>&quot;&quot;</td><td>&quot;&quot;</td><td>&quot;&quot;</td><td>&quot;&quot;</td><td>&quot;&quot;</td><td>&quot;&quot;</td><td>&hellip;</td><td>&quot;0.0000002500&quot;</td><td>&quot;OnDemand&quot;</td><td>&quot;ReadRequestUni…</td><td>0.0</td><td>0.0</td><td>0.0</td><td>&quot;&quot;</td><td>&quot;&quot;</td><td>&quot;&quot;</td><td>&quot;&quot;</td><td>0.0</td><td>&quot;&quot;</td><td>&quot;2065323317&quot;</td><td>&quot;&quot;</td><td>&quot;&quot;</td><td>&quot;&quot;</td><td>0.0</td><td>0.0</td><td>0.0</td><td>0.0</td><td>0.0</td><td>0.0</td><td>&quot;&quot;</td><td>0.0</td><td>0.0</td><td>0.0</td><td>0.0</td><td>0.0</td><td>&quot;&quot;</td><td>&quot;&quot;</td><td>&quot;ced23e22-0723-…</td><td>&quot;test-run-1&quot;</td><td>2023</td><td>10</td><td>&quot;aws-cur&quot;</td><td>258510396080</td><td>0</td></tr><tr><td>&quot;rexl7f7znlhayn…</td><td>&quot;2023-10-19T00:…</td><td>&quot;&quot;</td><td>&quot;Amazon Web Ser…</td><td>&quot;AWS&quot;</td><td>&quot;Anniversary&quot;</td><td>&quot;258510396080&quot;</td><td>2023-10-01 00:00:00</td><td>2023-11-01 00:00:00</td><td>&quot;136981179349&quot;</td><td>&quot;Usage&quot;</td><td>2023-10-19 14:00:00</td><td>2023-10-19 15:00:00</td><td>&quot;AmazonDynamoDB…</td><td>&quot;USW2-ReadReque…</td><td>&quot;PayPerRequestT…</td><td>&quot;us-west-2&quot;</td><td>&quot;arn:aws:dynamo…</td><td>0.5</td><td>0.0</td><td>0.0</td><td>&quot;USD&quot;</td><td>&quot;0.0000002500&quot;</td><td>1.2500e-7</td><td>&quot;0.0000002500&quot;</td><td>1.2500e-7</td><td>&quot;$0.25 per mill…</td><td>&quot;&quot;</td><td>&quot;Amazon Web Ser…</td><td>&quot;Amazon DynamoD…</td><td>&quot;N/A&quot;</td><td>&quot;&quot;</td><td>&quot;&quot;</td><td>&quot;&quot;</td><td>&quot;&quot;</td><td>&quot;&quot;</td><td>&quot;&quot;</td><td>&hellip;</td><td>&quot;0.0000002500&quot;</td><td>&quot;OnDemand&quot;</td><td>&quot;ReadRequestUni…</td><td>0.0</td><td>0.0</td><td>0.0</td><td>&quot;&quot;</td><td>&quot;&quot;</td><td>&quot;&quot;</td><td>&quot;&quot;</td><td>0.0</td><td>&quot;&quot;</td><td>&quot;2065323317&quot;</td><td>&quot;&quot;</td><td>&quot;&quot;</td><td>&quot;&quot;</td><td>0.0</td><td>0.0</td><td>0.0</td><td>0.0</td><td>0.0</td><td>0.0</td><td>&quot;&quot;</td><td>0.0</td><td>0.0</td><td>0.0</td><td>0.0</td><td>0.0</td><td>&quot;&quot;</td><td>&quot;&quot;</td><td>&quot;ced23e22-0723-…</td><td>&quot;test-run-1&quot;</td><td>2023</td><td>10</td><td>&quot;aws-cur&quot;</td><td>258510396080</td><td>0</td></tr><tr><td>&quot;idmrliolhmfkkz…</td><td>&quot;2023-10-19T00:…</td><td>&quot;&quot;</td><td>&quot;Amazon Web Ser…</td><td>&quot;AWS&quot;</td><td>&quot;Anniversary&quot;</td><td>&quot;258510396080&quot;</td><td>2023-10-01 00:00:00</td><td>2023-11-01 00:00:00</td><td>&quot;136981179349&quot;</td><td>&quot;Usage&quot;</td><td>2023-10-19 14:00:00</td><td>2023-10-19 15:00:00</td><td>&quot;AmazonDynamoDB…</td><td>&quot;USW2-ReadReque…</td><td>&quot;PayPerRequestT…</td><td>&quot;us-west-2&quot;</td><td>&quot;arn:aws:dynamo…</td><td>0.5</td><td>0.0</td><td>0.0</td><td>&quot;USD&quot;</td><td>&quot;0.0000002500&quot;</td><td>1.2500e-7</td><td>&quot;0.0000002500&quot;</td><td>1.2500e-7</td><td>&quot;$0.25 per mill…</td><td>&quot;&quot;</td><td>&quot;Amazon Web Ser…</td><td>&quot;Amazon DynamoD…</td><td>&quot;N/A&quot;</td><td>&quot;&quot;</td><td>&quot;&quot;</td><td>&quot;&quot;</td><td>&quot;&quot;</td><td>&quot;&quot;</td><td>&quot;&quot;</td><td>&hellip;</td><td>&quot;0.0000002500&quot;</td><td>&quot;OnDemand&quot;</td><td>&quot;ReadRequestUni…</td><td>0.0</td><td>0.0</td><td>0.0</td><td>&quot;&quot;</td><td>&quot;&quot;</td><td>&quot;&quot;</td><td>&quot;&quot;</td><td>0.0</td><td>&quot;&quot;</td><td>&quot;2065323317&quot;</td><td>&quot;&quot;</td><td>&quot;&quot;</td><td>&quot;&quot;</td><td>0.0</td><td>0.0</td><td>0.0</td><td>0.0</td><td>0.0</td><td>0.0</td><td>&quot;&quot;</td><td>0.0</td><td>0.0</td><td>0.0</td><td>0.0</td><td>0.0</td><td>&quot;&quot;</td><td>&quot;&quot;</td><td>&quot;ced23e22-0723-…</td><td>&quot;test-run-1&quot;</td><td>2023</td><td>10</td><td>&quot;aws-cur&quot;</td><td>258510396080</td><td>0</td></tr><tr><td>&quot;y5cpqndo2cwm37…</td><td>&quot;2023-10-19T00:…</td><td>&quot;&quot;</td><td>&quot;Amazon Web Ser…</td><td>&quot;AWS&quot;</td><td>&quot;Anniversary&quot;</td><td>&quot;258510396080&quot;</td><td>2023-10-01 00:00:00</td><td>2023-11-01 00:00:00</td><td>&quot;136981179349&quot;</td><td>&quot;Usage&quot;</td><td>2023-10-19 00:00:00</td><td>2023-10-19 01:00:00</td><td>&quot;AmazonDynamoDB…</td><td>&quot;USW2-ReadReque…</td><td>&quot;PayPerRequestT…</td><td>&quot;us-west-2&quot;</td><td>&quot;arn:aws:dynamo…</td><td>6.0</td><td>0.0</td><td>0.0</td><td>&quot;USD&quot;</td><td>&quot;0.0000002500&quot;</td><td>0.0000015</td><td>&quot;0.0000002500&quot;</td><td>0.0000015</td><td>&quot;$0.25 per mill…</td><td>&quot;&quot;</td><td>&quot;Amazon Web Ser…</td><td>&quot;Amazon DynamoD…</td><td>&quot;N/A&quot;</td><td>&quot;&quot;</td><td>&quot;&quot;</td><td>&quot;&quot;</td><td>&quot;&quot;</td><td>&quot;&quot;</td><td>&quot;&quot;</td><td>&hellip;</td><td>&quot;0.0000002500&quot;</td><td>&quot;OnDemand&quot;</td><td>&quot;ReadRequestUni…</td><td>0.0</td><td>0.0</td><td>0.0</td><td>&quot;&quot;</td><td>&quot;&quot;</td><td>&quot;&quot;</td><td>&quot;&quot;</td><td>0.0</td><td>&quot;&quot;</td><td>&quot;2065323317&quot;</td><td>&quot;&quot;</td><td>&quot;&quot;</td><td>&quot;&quot;</td><td>0.0</td><td>0.0</td><td>0.0</td><td>0.0</td><td>0.0</td><td>0.0</td><td>&quot;&quot;</td><td>0.0</td><td>0.0</td><td>0.0</td><td>0.0</td><td>0.0</td><td>&quot;&quot;</td><td>&quot;&quot;</td><td>&quot;ced23e22-0723-…</td><td>&quot;test-run-1&quot;</td><td>2023</td><td>10</td><td>&quot;aws-cur&quot;</td><td>258510396080</td><td>0</td></tr><tr><td>&quot;syndxk65tfqr7d…</td><td>&quot;2023-10-20T00:…</td><td>&quot;&quot;</td><td>&quot;Amazon Web Ser…</td><td>&quot;AWS&quot;</td><td>&quot;Anniversary&quot;</td><td>&quot;258510396080&quot;</td><td>2023-10-01 00:00:00</td><td>2023-11-01 00:00:00</td><td>&quot;136981179349&quot;</td><td>&quot;Usage&quot;</td><td>2023-10-20 20:00:00</td><td>2023-10-20 21:00:00</td><td>&quot;AmazonDynamoDB…</td><td>&quot;USW2-ReadReque…</td><td>&quot;PayPerRequestT…</td><td>&quot;us-west-2&quot;</td><td>&quot;arn:aws:dynamo…</td><td>466.0</td><td>0.0</td><td>0.0</td><td>&quot;USD&quot;</td><td>&quot;0.0000002500&quot;</td><td>0.0001165</td><td>&quot;0.0000002500&quot;</td><td>0.0001165</td><td>&quot;$0.25 per mill…</td><td>&quot;&quot;</td><td>&quot;Amazon Web Ser…</td><td>&quot;Amazon DynamoD…</td><td>&quot;N/A&quot;</td><td>&quot;&quot;</td><td>&quot;&quot;</td><td>&quot;&quot;</td><td>&quot;&quot;</td><td>&quot;&quot;</td><td>&quot;&quot;</td><td>&hellip;</td><td>&quot;0.0000002500&quot;</td><td>&quot;OnDemand&quot;</td><td>&quot;ReadRequestUni…</td><td>0.0</td><td>0.0</td><td>0.0</td><td>&quot;&quot;</td><td>&quot;&quot;</td><td>&quot;&quot;</td><td>&quot;&quot;</td><td>0.0</td><td>&quot;&quot;</td><td>&quot;2065323317&quot;</td><td>&quot;&quot;</td><td>&quot;&quot;</td><td>&quot;&quot;</td><td>0.0</td><td>0.0</td><td>0.0</td><td>0.0</td><td>0.0</td><td>0.0</td><td>&quot;&quot;</td><td>0.0</td><td>0.0</td><td>0.0</td><td>0.0</td><td>0.0</td><td>&quot;&quot;</td><td>&quot;&quot;</td><td>&quot;ced23e22-0723-…</td><td>&quot;test-run-1&quot;</td><td>2023</td><td>10</td><td>&quot;aws-cur&quot;</td><td>258510396080</td><td>0</td></tr><tr><td>&quot;bikxdwkiq24keu…</td><td>&quot;2023-10-20T00:…</td><td>&quot;&quot;</td><td>&quot;Amazon Web Ser…</td><td>&quot;AWS&quot;</td><td>&quot;Anniversary&quot;</td><td>&quot;258510396080&quot;</td><td>2023-10-01 00:00:00</td><td>2023-11-01 00:00:00</td><td>&quot;881194239943&quot;</td><td>&quot;Usage&quot;</td><td>2023-10-20 00:00:00</td><td>2023-10-20 23:00:00</td><td>&quot;AmazonDynamoDB…</td><td>&quot;USW2-ReadReque…</td><td>&quot;PayPerRequestT…</td><td>&quot;us-west-2&quot;</td><td>&quot;arn:aws:dynamo…</td><td>5858.5</td><td>0.0</td><td>0.0</td><td>&quot;USD&quot;</td><td>&quot;0.0000002500&quot;</td><td>0.001465</td><td>&quot;0.0000002500&quot;</td><td>0.001465</td><td>&quot;$0.25 per mill…</td><td>&quot;&quot;</td><td>&quot;Amazon Web Ser…</td><td>&quot;Amazon DynamoD…</td><td>&quot;N/A&quot;</td><td>&quot;&quot;</td><td>&quot;&quot;</td><td>&quot;&quot;</td><td>&quot;&quot;</td><td>&quot;&quot;</td><td>&quot;&quot;</td><td>&hellip;</td><td>&quot;0.0000002500&quot;</td><td>&quot;OnDemand&quot;</td><td>&quot;ReadRequestUni…</td><td>0.0</td><td>0.0</td><td>0.0</td><td>&quot;&quot;</td><td>&quot;&quot;</td><td>&quot;&quot;</td><td>&quot;&quot;</td><td>0.0</td><td>&quot;&quot;</td><td>&quot;2065319854&quot;</td><td>&quot;&quot;</td><td>&quot;&quot;</td><td>&quot;&quot;</td><td>0.0</td><td>0.0</td><td>0.0</td><td>0.0</td><td>0.0</td><td>0.0</td><td>&quot;&quot;</td><td>0.0</td><td>0.0</td><td>0.0</td><td>0.0</td><td>0.0</td><td>&quot;&quot;</td><td>&quot;&quot;</td><td>&quot;ced23e22-0723-…</td><td>&quot;test-run-1&quot;</td><td>2023</td><td>10</td><td>&quot;aws-cur&quot;</td><td>258510396080</td><td>0</td></tr><tr><td>&quot;vbdqh6xrxym7qw…</td><td>&quot;2023-10-20T00:…</td><td>&quot;&quot;</td><td>&quot;Amazon Web Ser…</td><td>&quot;AWS&quot;</td><td>&quot;Anniversary&quot;</td><td>&quot;258510396080&quot;</td><td>2023-10-01 00:00:00</td><td>2023-11-01 00:00:00</td><td>&quot;881194239943&quot;</td><td>&quot;Usage&quot;</td><td>2023-10-20 00:00:00</td><td>2023-10-21 00:00:00</td><td>&quot;AmazonDynamoDB…</td><td>&quot;USW2-ReadReque…</td><td>&quot;PayPerRequestT…</td><td>&quot;us-west-2&quot;</td><td>&quot;arn:aws:dynamo…</td><td>17324.0</td><td>0.0</td><td>0.0</td><td>&quot;USD&quot;</td><td>&quot;0.0000002500&quot;</td><td>0.004331</td><td>&quot;0.0000002500&quot;</td><td>0.004331</td><td>&quot;$0.25 per mill…</td><td>&quot;&quot;</td><td>&quot;Amazon Web Ser…</td><td>&quot;Amazon DynamoD…</td><td>&quot;N/A&quot;</td><td>&quot;&quot;</td><td>&quot;&quot;</td><td>&quot;&quot;</td><td>&quot;&quot;</td><td>&quot;&quot;</td><td>&quot;&quot;</td><td>&hellip;</td><td>&quot;0.0000002500&quot;</td><td>&quot;OnDemand&quot;</td><td>&quot;ReadRequestUni…</td><td>0.0</td><td>0.0</td><td>0.0</td><td>&quot;&quot;</td><td>&quot;&quot;</td><td>&quot;&quot;</td><td>&quot;&quot;</td><td>0.0</td><td>&quot;&quot;</td><td>&quot;2065319854&quot;</td><td>&quot;&quot;</td><td>&quot;&quot;</td><td>&quot;&quot;</td><td>0.0</td><td>0.0</td><td>0.0</td><td>0.0</td><td>0.0</td><td>0.0</td><td>&quot;&quot;</td><td>0.0</td><td>0.0</td><td>0.0</td><td>0.0</td><td>0.0</td><td>&quot;&quot;</td><td>&quot;&quot;</td><td>&quot;ced23e22-0723-…</td><td>&quot;test-run-1&quot;</td><td>2023</td><td>10</td><td>&quot;aws-cur&quot;</td><td>258510396080</td><td>0</td></tr><tr><td>&quot;f6qvdclz7ka4p7…</td><td>&quot;2023-10-21T00:…</td><td>&quot;&quot;</td><td>&quot;Amazon Web Ser…</td><td>&quot;AWS&quot;</td><td>&quot;Anniversary&quot;</td><td>&quot;258510396080&quot;</td><td>2023-10-01 00:00:00</td><td>2023-11-01 00:00:00</td><td>&quot;606103309715&quot;</td><td>&quot;Usage&quot;</td><td>2023-10-21 00:00:00</td><td>2023-10-21 20:00:00</td><td>&quot;AmazonDynamoDB…</td><td>&quot;USW2-ReadReque…</td><td>&quot;PayPerRequestT…</td><td>&quot;us-west-2&quot;</td><td>&quot;arn:aws:dynamo…</td><td>3065.5</td><td>0.0</td><td>0.0</td><td>&quot;USD&quot;</td><td>&quot;0.0000002500&quot;</td><td>0.000766</td><td>&quot;0.0000002500&quot;</td><td>0.000766</td><td>&quot;$0.25 per mill…</td><td>&quot;&quot;</td><td>&quot;Amazon Web Ser…</td><td>&quot;Amazon DynamoD…</td><td>&quot;N/A&quot;</td><td>&quot;&quot;</td><td>&quot;&quot;</td><td>&quot;&quot;</td><td>&quot;&quot;</td><td>&quot;&quot;</td><td>&quot;&quot;</td><td>&hellip;</td><td>&quot;0.0000002500&quot;</td><td>&quot;OnDemand&quot;</td><td>&quot;ReadRequestUni…</td><td>0.0</td><td>0.0</td><td>0.0</td><td>&quot;&quot;</td><td>&quot;&quot;</td><td>&quot;&quot;</td><td>&quot;&quot;</td><td>0.0</td><td>&quot;&quot;</td><td>&quot;2055759893&quot;</td><td>&quot;&quot;</td><td>&quot;&quot;</td><td>&quot;&quot;</td><td>0.0</td><td>0.0</td><td>0.0</td><td>0.0</td><td>0.0</td><td>0.0</td><td>&quot;&quot;</td><td>0.0</td><td>0.0</td><td>0.0</td><td>0.0</td><td>0.0</td><td>&quot;&quot;</td><td>&quot;&quot;</td><td>&quot;ced23e22-0723-…</td><td>&quot;test-run-1&quot;</td><td>2023</td><td>10</td><td>&quot;aws-cur&quot;</td><td>258510396080</td><td>0</td></tr></tbody></table></div>"
     },
     "execution_count": 4,
     "metadata": {},
     "output_type": "execute_result"
    }
   ],
   "source": [
    "lf.collect()"
   ],
   "metadata": {
    "collapsed": false,
    "ExecuteTime": {
     "end_time": "2023-11-10T12:20:50.944182748Z",
     "start_time": "2023-11-10T12:20:50.842622422Z"
    }
   },
   "id": "c23acde12a9ce122"
  },
  {
   "cell_type": "code",
   "execution_count": 5,
   "outputs": [],
   "source": [
    "lf_aws = pl.scan_parquet(\"/home/vmittal/stitcher/processed_full/customers/Customer=ced23e22-0723-40ad-b74a-4cb779b17449/Run=test-run-1/extract/Year=2023/Month=10/cost-data/PROVIDER=aws-cur/BillingAccountId=258510396080/Partition=0/dataset.parquet\").filter(pl.col(\"aws_line_item_availability_zone\").ne(\"\")).limit(100)"
   ],
   "metadata": {
    "collapsed": false,
    "ExecuteTime": {
     "end_time": "2023-11-10T12:20:52.367773892Z",
     "start_time": "2023-11-10T12:20:52.346269881Z"
    }
   },
   "id": "4181298f2dc6e7bb"
  },
  {
   "cell_type": "code",
   "execution_count": 11,
   "outputs": [
    {
     "data": {
      "text/plain": "shape: (2, 1)\n┌─────────────────────────────────┐\n│ aws_line_item_availability_zone │\n│ ---                             │\n│ str                             │\n╞═════════════════════════════════╡\n│ us-east-1                       │\n│ us-west-2                       │\n└─────────────────────────────────┘",
      "text/html": "<div><style>\n.dataframe > thead > tr > th,\n.dataframe > tbody > tr > td {\n  text-align: right;\n  white-space: pre-wrap;\n}\n</style>\n<small>shape: (2, 1)</small><table border=\"1\" class=\"dataframe\"><thead><tr><th>aws_line_item_availability_zone</th></tr><tr><td>str</td></tr></thead><tbody><tr><td>&quot;us-east-1&quot;</td></tr><tr><td>&quot;us-west-2&quot;</td></tr></tbody></table></div>"
     },
     "execution_count": 11,
     "metadata": {},
     "output_type": "execute_result"
    }
   ],
   "source": [
    "lf_aws.select(\"aws_line_item_availability_zone\").unique().collect()"
   ],
   "metadata": {
    "collapsed": false,
    "ExecuteTime": {
     "end_time": "2023-10-31T20:02:12.528333024Z",
     "start_time": "2023-10-31T20:02:12.516653732Z"
    }
   },
   "id": "123439e4df32f839"
  },
  {
   "cell_type": "code",
   "execution_count": 12,
   "outputs": [
    {
     "data": {
      "text/plain": "shape: (1, 1)\n┌───────────────────────────────┐\n│ aws_product_availability_zone │\n│ ---                           │\n│ str                           │\n╞═══════════════════════════════╡\n│                               │\n└───────────────────────────────┘",
      "text/html": "<div><style>\n.dataframe > thead > tr > th,\n.dataframe > tbody > tr > td {\n  text-align: right;\n  white-space: pre-wrap;\n}\n</style>\n<small>shape: (1, 1)</small><table border=\"1\" class=\"dataframe\"><thead><tr><th>aws_product_availability_zone</th></tr><tr><td>str</td></tr></thead><tbody><tr><td>&quot;&quot;</td></tr></tbody></table></div>"
     },
     "execution_count": 12,
     "metadata": {},
     "output_type": "execute_result"
    }
   ],
   "source": [
    "lf_aws.select(\"aws_product_availability_zone\").unique().collect()"
   ],
   "metadata": {
    "collapsed": false,
    "ExecuteTime": {
     "end_time": "2023-10-31T20:02:14.156101668Z",
     "start_time": "2023-10-31T20:02:14.135338764Z"
    }
   },
   "id": "c3dd8e35c4622d7b"
  },
  {
   "cell_type": "code",
   "execution_count": 13,
   "outputs": [],
   "source": [
    "lf_aws.collect().write_parquet(\"/home/vmittal/focus_test_dataset/aws/1.parquet\")"
   ],
   "metadata": {
    "collapsed": false,
    "ExecuteTime": {
     "end_time": "2023-10-31T20:02:15.289607317Z",
     "start_time": "2023-10-31T20:02:15.166183940Z"
    }
   },
   "id": "19147c50c52320c2"
  },
  {
   "cell_type": "code",
   "execution_count": 19,
   "outputs": [
    {
     "data": {
      "text/plain": "['aws_product_from_region_code',\n 'aws_product_region',\n 'aws_product_region_code',\n 'aws_product_to_region_code']"
     },
     "execution_count": 19,
     "metadata": {},
     "output_type": "execute_result"
    }
   ],
   "source": [
    "[column for column in lf_aws.columns if \"region\" in column]"
   ],
   "metadata": {
    "collapsed": false,
    "ExecuteTime": {
     "end_time": "2023-10-31T20:04:13.450995144Z",
     "start_time": "2023-10-31T20:04:13.404167358Z"
    }
   },
   "id": "427d80013bd5b545"
  },
  {
   "cell_type": "code",
   "execution_count": 2,
   "outputs": [
    {
     "name": "stdout",
     "output_type": "stream",
     "text": [
      "/bin/bash: warning: setlocale: LC_ALL: cannot change locale (en_US.UTF-8)\r\n"
     ]
    }
   ],
   "source": [
    "!rm -rf /tmp/converted_aws"
   ],
   "metadata": {
    "collapsed": false,
    "ExecuteTime": {
     "end_time": "2023-10-31T20:05:34.896362018Z",
     "start_time": "2023-10-31T20:05:34.677946691Z"
    }
   },
   "id": "2e61c211d696f576"
  },
  {
   "cell_type": "code",
   "execution_count": 1,
   "outputs": [
    {
     "name": "stdout",
     "output_type": "stream",
     "text": [
      "--> savings_plan_savings_plan_effective_cost\n",
      "--> line_item_line_item_type\n",
      "++> AmortisedCost\n",
      "+++ []\n",
      "++++++++++++\n",
      "savings_plan_savings_plan_effective_cost STATIC_CONVERSION_TYPES.SQL_CONDITION\n",
      "line_item_line_item_type STATIC_CONVERSION_TYPES.SQL_CONDITION\n",
      "bill_payer_account_id STATIC_CONVERSION_TYPES.RENAME_COLUMN\n",
      "bill_billing_period_end_date STATIC_CONVERSION_TYPES.ASSIGN_UTC_TIMEZONE\n",
      "bill_billing_period_start_date STATIC_CONVERSION_TYPES.ASSIGN_UTC_TIMEZONE\n",
      "line_item_usage_start_date STATIC_CONVERSION_TYPES.ASSIGN_UTC_TIMEZONE\n",
      "line_item_usage_end_date STATIC_CONVERSION_TYPES.ASSIGN_UTC_TIMEZONE\n",
      "--> line_item_line_item_type\n",
      "--> line_item_line_item_type\n",
      "--> line_item_line_item_type\n",
      "--> line_item_line_item_type\n",
      "--> line_item_line_item_type\n",
      "--> line_item_line_item_type\n",
      "--> line_item_line_item_type\n",
      "--> line_item_line_item_type\n",
      "--> line_item_line_item_type\n",
      "--> line_item_line_item_type\n",
      "--> line_item_line_item_type\n",
      "--> line_item_line_item_type\n",
      "--> line_item_line_item_type\n",
      "--> line_item_line_item_type\n",
      "--> line_item_line_item_type\n",
      "++> ChargeType\n",
      "+++ []\n",
      "++++++++++++\n",
      "NA STATIC_CONVERSION_TYPES.ASSIGN_STATIC_VALUE\n",
      "line_item_product_code STATIC_CONVERSION_TYPES.LOOKUP\n",
      "line_item_availability_zone STATIC_CONVERSION_TYPES.RENAME_COLUMN\n",
      "line_item_currency_code STATIC_CONVERSION_TYPES.RENAME_COLUMN\n",
      "bill_invoicing_entity STATIC_CONVERSION_TYPES.RENAME_COLUMN\n",
      "line_item_resource_id STATIC_CONVERSION_TYPES.RENAME_COLUMN\n",
      "product_region STATIC_CONVERSION_TYPES.RENAME_COLUMN\n",
      "graph TD;\n",
      "\tSOURCE --> savings_plan_savings_plan_effective_cost\n",
      "\tSOURCE --> line_item_line_item_type\n",
      "\tSOURCE --> bill_payer_account_id\n",
      "\tSOURCE --> bill_billing_period_end_date\n",
      "\tSOURCE --> bill_billing_period_start_date\n",
      "\tSOURCE --> line_item_usage_start_date\n",
      "\tSOURCE --> line_item_usage_end_date\n",
      "\tSOURCE --> NA\n",
      "\tSOURCE --> line_item_product_code\n",
      "\tSOURCE --> line_item_availability_zone\n",
      "\tSOURCE --> line_item_currency_code\n",
      "\tSOURCE --> bill_invoicing_entity\n",
      "\tSOURCE --> line_item_resource_id\n",
      "\tSOURCE --> product_region\n",
      "\tsavings_plan_savings_plan_effective_cost-- SQL_CONDITION:D001_S001.yaml -->AmortisedCost\n",
      "\tline_item_line_item_type-- SQL_CONDITION:D001_S001.yaml -->AmortisedCost\n",
      "\tline_item_line_item_type-- SQL_CONDITION:D010_S001.yaml -->ChargeType\n",
      "\tAmortisedCost --> FOCUS_DATASET\n",
      "\tbill_payer_account_id-- RENAME_COLUMN:D002_S001.yaml -->BillingAccountId\n",
      "\tBillingAccountId --> FOCUS_DATASET\n",
      "\tbill_billing_period_end_date-- ASSIGN_UTC_TIMEZONE:D003_S001.yaml -->BillingPeriodEnd\n",
      "\tBillingPeriodEnd --> FOCUS_DATASET\n",
      "\tbill_billing_period_start_date-- ASSIGN_UTC_TIMEZONE:D004_S001.yaml -->BillingPeriodStart\n",
      "\tBillingPeriodStart --> FOCUS_DATASET\n",
      "\tline_item_usage_start_date-- ASSIGN_UTC_TIMEZONE:D005_S001.yaml -->ChargePeriodStart\n",
      "\tChargePeriodStart --> FOCUS_DATASET\n",
      "\tline_item_usage_end_date-- ASSIGN_UTC_TIMEZONE:D006_S001.yaml -->ChargePeriodEnd\n",
      "\tChargePeriodEnd --> FOCUS_DATASET\n",
      "\tChargeType --> FOCUS_DATASET\n",
      "\tNA-- ASSIGN_STATIC_VALUE:D011_S001.yaml -->Provider\n",
      "\tProvider --> FOCUS_DATASET\n",
      "\tSTATIC_VALUE-- ASSIGN_STATIC_VALUE:D011_S001.yaml -->Provider\n",
      "\tline_item_product_code-- LOOKUP:D012_S002.yaml -->ServiceCategory\n",
      "\tline_item_product_code-- RENAME_COLUMN:D017_S001.yaml -->ServiceName\n",
      "\tServiceCategory --> FOCUS_DATASET\n",
      "\tline_item_availability_zone-- RENAME_COLUMN:D013_S001.yaml -->AvailabilityZone\n",
      "\tAvailabilityZone --> FOCUS_DATASET\n",
      "\tline_item_currency_code-- RENAME_COLUMN:D014_S001.yaml -->BillingCurrency\n",
      "\tBillingCurrency --> FOCUS_DATASET\n",
      "\tbill_invoicing_entity-- RENAME_COLUMN:D015_S001.yaml -->InvoiceIssuer\n",
      "\tInvoiceIssuer --> FOCUS_DATASET\n",
      "\tline_item_resource_id-- RENAME_COLUMN:D016_S001.yaml -->ResourceId\n",
      "\tResourceId --> FOCUS_DATASET\n",
      "\tServiceName --> FOCUS_DATASET\n",
      "\tproduct_region-- RENAME_COLUMN:D018_S001.yaml -->Region\n",
      "\tRegion --> FOCUS_DATASET\n"
     ]
    },
    {
     "name": "stderr",
     "output_type": "stream",
     "text": [
      "  0%|          | 0/100 [00:00<?, ?it/s]\n"
     ]
    },
    {
     "ename": "ValueError",
     "evalue": "Column NA not found in data",
     "output_type": "error",
     "traceback": [
      "\u001B[0;31m---------------------------------------------------------------------------\u001B[0m",
      "\u001B[0;31mValueError\u001B[0m                                Traceback (most recent call last)",
      "Cell \u001B[0;32mIn[1], line 16\u001B[0m\n\u001B[1;32m      7\u001B[0m converter\u001B[38;5;241m.\u001B[39mload_data(\n\u001B[1;32m      8\u001B[0m     data_path\u001B[38;5;241m=\u001B[39m\u001B[38;5;124m\"\u001B[39m\u001B[38;5;124m/home/vmittal/focus_test_dataset/aws\u001B[39m\u001B[38;5;124m\"\u001B[39m,\n\u001B[1;32m      9\u001B[0m     data_format\u001B[38;5;241m=\u001B[39mDataFormats\u001B[38;5;241m.\u001B[39mPARQUET,\n\u001B[1;32m     10\u001B[0m     parquet_data_format\u001B[38;5;241m=\u001B[39mParquetDataFormat\u001B[38;5;241m.\u001B[39mDATASET,\n\u001B[1;32m     11\u001B[0m )\n\u001B[1;32m     12\u001B[0m converter\u001B[38;5;241m.\u001B[39mconfigure_data_export(\n\u001B[1;32m     13\u001B[0m     export_path\u001B[38;5;241m=\u001B[39m\u001B[38;5;124m\"\u001B[39m\u001B[38;5;124m/tmp/converted_aws\u001B[39m\u001B[38;5;124m\"\u001B[39m,\n\u001B[1;32m     14\u001B[0m     export_include_source_columns\u001B[38;5;241m=\u001B[39m\u001B[38;5;28;01mFalse\u001B[39;00m,\n\u001B[1;32m     15\u001B[0m )\n\u001B[0;32m---> 16\u001B[0m \u001B[43mconverter\u001B[49m\u001B[38;5;241;43m.\u001B[39;49m\u001B[43mconvert\u001B[49m\u001B[43m(\u001B[49m\u001B[43m)\u001B[49m\n",
      "File \u001B[0;32m~/Code/focus/vm_focus_converters/focus_converter_base/focus_converter/converter.py:295\u001B[0m, in \u001B[0;36mFocusConverter.convert\u001B[0;34m(self)\u001B[0m\n\u001B[1;32m    292\u001B[0m \u001B[38;5;28;01mif\u001B[39;00m \u001B[38;5;28mself\u001B[39m\u001B[38;5;241m.\u001B[39mdata_exporter:\n\u001B[1;32m    293\u001B[0m     \u001B[38;5;28mself\u001B[39m\u001B[38;5;241m.\u001B[39mdata_exporter\u001B[38;5;241m.\u001B[39mclose()\n\u001B[0;32m--> 295\u001B[0m \u001B[38;5;28;01mraise\u001B[39;00m error\n",
      "File \u001B[0;32m~/Code/focus/vm_focus_converters/focus_converter_base/focus_converter/converter.py:282\u001B[0m, in \u001B[0;36mFocusConverter.convert\u001B[0;34m(self)\u001B[0m\n\u001B[1;32m    280\u001B[0m \u001B[38;5;28;01mfor\u001B[39;00m lf \u001B[38;5;129;01min\u001B[39;00m \u001B[38;5;28mself\u001B[39m\u001B[38;5;241m.\u001B[39mdata_loader\u001B[38;5;241m.\u001B[39mdata_scanner():\n\u001B[1;32m    281\u001B[0m     \u001B[38;5;28;01mtry\u001B[39;00m:\n\u001B[0;32m--> 282\u001B[0m         lf \u001B[38;5;241m=\u001B[39m \u001B[38;5;28;43mself\u001B[39;49m\u001B[38;5;241;43m.\u001B[39;49m\u001B[43m__process_lazy_frame__\u001B[49m\u001B[43m(\u001B[49m\u001B[43mlf\u001B[49m\u001B[38;5;241;43m=\u001B[39;49m\u001B[43mlf\u001B[49m\u001B[43m)\u001B[49m\n\u001B[1;32m    283\u001B[0m         \u001B[38;5;28mself\u001B[39m\u001B[38;5;241m.\u001B[39mdata_exporter\u001B[38;5;241m.\u001B[39mcollect(\n\u001B[1;32m    284\u001B[0m             lf\u001B[38;5;241m=\u001B[39mlf, collected_columns\u001B[38;5;241m=\u001B[39m\u001B[38;5;28mlist\u001B[39m(\u001B[38;5;28mset\u001B[39m(\u001B[38;5;28mself\u001B[39m\u001B[38;5;241m.\u001B[39mh_collected_columns))\n\u001B[1;32m    285\u001B[0m         )\n\u001B[1;32m    286\u001B[0m     \u001B[38;5;28;01mexcept\u001B[39;00m \u001B[38;5;167;01mException\u001B[39;00m \u001B[38;5;28;01mas\u001B[39;00m e:\n",
      "File \u001B[0;32m~/Code/focus/vm_focus_converters/focus_converter_base/focus_converter/converter.py:273\u001B[0m, in \u001B[0;36mFocusConverter.__process_lazy_frame__\u001B[0;34m(self, lf)\u001B[0m\n\u001B[1;32m    270\u001B[0m     lf \u001B[38;5;241m=\u001B[39m \u001B[38;5;28mself\u001B[39m\u001B[38;5;241m.\u001B[39m__re_map_source_columns__(lf\u001B[38;5;241m=\u001B[39mlf)\n\u001B[1;32m    272\u001B[0m \u001B[38;5;66;03m# validate all source columns exist in the lazy frame\u001B[39;00m\n\u001B[0;32m--> 273\u001B[0m \u001B[38;5;28;43mself\u001B[39;49m\u001B[38;5;241;43m.\u001B[39;49m\u001B[43m__column_validator__\u001B[49m\u001B[38;5;241;43m.\u001B[39;49m\u001B[43mvalidate_lazy_frame_columns\u001B[49m\u001B[43m(\u001B[49m\u001B[43mlf\u001B[49m\u001B[38;5;241;43m=\u001B[39;49m\u001B[43mlf\u001B[49m\u001B[43m)\u001B[49m\n\u001B[1;32m    275\u001B[0m \u001B[38;5;28;01mreturn\u001B[39;00m \u001B[38;5;28mself\u001B[39m\u001B[38;5;241m.\u001B[39mapply_plan(lf\u001B[38;5;241m=\u001B[39mlf)\n",
      "File \u001B[0;32m~/Code/focus/vm_focus_converters/focus_converter_base/focus_converter/conversion_functions/validations.py:89\u001B[0m, in \u001B[0;36mColumnValidator.validate_lazy_frame_columns\u001B[0;34m(self, lf)\u001B[0m\n\u001B[1;32m     87\u001B[0m \u001B[38;5;28;01mfor\u001B[39;00m source_columns \u001B[38;5;129;01min\u001B[39;00m source_columns:\n\u001B[1;32m     88\u001B[0m     \u001B[38;5;28;01mif\u001B[39;00m source_columns \u001B[38;5;129;01mnot\u001B[39;00m \u001B[38;5;129;01min\u001B[39;00m lf\u001B[38;5;241m.\u001B[39mcolumns:\n\u001B[0;32m---> 89\u001B[0m         \u001B[38;5;28;01mraise\u001B[39;00m \u001B[38;5;167;01mValueError\u001B[39;00m(\u001B[38;5;124mf\u001B[39m\u001B[38;5;124m\"\u001B[39m\u001B[38;5;124mColumn \u001B[39m\u001B[38;5;132;01m{\u001B[39;00msource_columns\u001B[38;5;132;01m}\u001B[39;00m\u001B[38;5;124m not found in data\u001B[39m\u001B[38;5;124m\"\u001B[39m)\n",
      "\u001B[0;31mValueError\u001B[0m: Column NA not found in data"
     ]
    }
   ],
   "source": [
    "from focus_converter.data_loaders.data_loader import DataFormats, ParquetDataFormat\n",
    "from focus_converter.converter import FocusConverter\n",
    "\n",
    "converter = FocusConverter(column_prefix=\"aws_\")\n",
    "converter.load_provider_conversion_configs()\n",
    "converter.prepare_horizontal_conversion_plan(provider=\"aws\")\n",
    "converter.load_data(\n",
    "    data_path=\"/home/vmittal/focus_test_dataset/aws\",\n",
    "    data_format=DataFormats.PARQUET,\n",
    "    parquet_data_format=ParquetDataFormat.DATASET,\n",
    ")\n",
    "converter.configure_data_export(\n",
    "    export_path=\"/tmp/converted_aws\",\n",
    "    export_include_source_columns=False,\n",
    ")\n",
    "converter.convert()"
   ],
   "metadata": {
    "collapsed": false,
    "ExecuteTime": {
     "end_time": "2023-11-10T12:36:27.333919902Z",
     "start_time": "2023-11-10T12:36:26.563400307Z"
    }
   },
   "id": "5881bf5135e5dea3"
  },
  {
   "cell_type": "code",
   "execution_count": 4,
   "outputs": [
    {
     "data": {
      "text/plain": "   BillingAccountId ChargeType Provider          BillingPeriodEnd  \\\n0      258510396080      Usage      AWS 2023-11-01 00:00:00+00:00   \n1      258510396080      Usage      AWS 2023-11-01 00:00:00+00:00   \n2      258510396080      Usage      AWS 2023-11-01 00:00:00+00:00   \n3      258510396080      Usage      AWS 2023-11-01 00:00:00+00:00   \n4      258510396080      Usage      AWS 2023-11-01 00:00:00+00:00   \n..              ...        ...      ...                       ...   \n95     258510396080      Usage      AWS 2023-11-01 00:00:00+00:00   \n96     258510396080      Usage      AWS 2023-11-01 00:00:00+00:00   \n97     258510396080      Usage      AWS 2023-11-01 00:00:00+00:00   \n98     258510396080      Usage      AWS 2023-11-01 00:00:00+00:00   \n99     258510396080      Usage      AWS 2023-11-01 00:00:00+00:00   \n\n             ChargePeriodEnd ServiceCategory BillingCurrency     Region  \\\n0  2023-10-02 00:00:00+00:00       Databases             USD  us-west-2   \n1  2023-10-02 00:00:00+00:00       Databases             USD  us-west-2   \n2  2023-10-04 00:00:00+00:00       Databases             USD  us-west-2   \n3  2023-10-05 00:00:00+00:00       Databases             USD  us-west-2   \n4  2023-10-05 00:00:00+00:00       Databases             USD  us-west-2   \n..                       ...             ...             ...        ...   \n95 2023-10-19 01:00:00+00:00       Databases             USD  us-west-2   \n96 2023-10-20 21:00:00+00:00       Databases             USD  us-west-2   \n97 2023-10-20 23:00:00+00:00       Databases             USD  us-west-2   \n98 2023-10-21 00:00:00+00:00       Databases             USD  us-west-2   \n99 2023-10-21 20:00:00+00:00       Databases             USD  us-west-2   \n\n       ServiceName  AmortisedCost         ChargePeriodStart  \\\n0        AmazonRDS            0.0 2023-10-01 00:00:00+00:00   \n1        AmazonRDS            0.0 2023-10-01 00:00:00+00:00   \n2        AmazonRDS            0.0 2023-10-03 00:00:00+00:00   \n3        AmazonRDS            0.0 2023-10-04 00:00:00+00:00   \n4        AmazonRDS            0.0 2023-10-04 00:00:00+00:00   \n..             ...            ...                       ...   \n95  AmazonDynamoDB            0.0 2023-10-19 00:00:00+00:00   \n96  AmazonDynamoDB            0.0 2023-10-20 20:00:00+00:00   \n97  AmazonDynamoDB            0.0 2023-10-20 00:00:00+00:00   \n98  AmazonDynamoDB            0.0 2023-10-20 00:00:00+00:00   \n99  AmazonDynamoDB            0.0 2023-10-21 00:00:00+00:00   \n\n          BillingPeriodStart              InvoiceIssuer AvailibityZone  \\\n0  2023-10-01 00:00:00+00:00  Amazon Web Services, Inc.      us-west-2   \n1  2023-10-01 00:00:00+00:00  Amazon Web Services, Inc.      us-west-2   \n2  2023-10-01 00:00:00+00:00  Amazon Web Services, Inc.      us-west-2   \n3  2023-10-01 00:00:00+00:00  Amazon Web Services, Inc.      us-west-2   \n4  2023-10-01 00:00:00+00:00  Amazon Web Services, Inc.      us-west-2   \n..                       ...                        ...            ...   \n95 2023-10-01 00:00:00+00:00  Amazon Web Services, Inc.      us-west-2   \n96 2023-10-01 00:00:00+00:00  Amazon Web Services, Inc.      us-west-2   \n97 2023-10-01 00:00:00+00:00  Amazon Web Services, Inc.      us-west-2   \n98 2023-10-01 00:00:00+00:00  Amazon Web Services, Inc.      us-west-2   \n99 2023-10-01 00:00:00+00:00  Amazon Web Services, Inc.      us-west-2   \n\n                                           ResourceId  \n0   arn:aws:rds:us-west-2:442826362253:cluster:pos...  \n1   arn:aws:rds:us-west-2:731189341161:cluster:pos...  \n2   arn:aws:rds:us-west-2:153970874803:cluster:pos...  \n3   arn:aws:rds:us-west-2:371543525100:cluster:pos...  \n4   arn:aws:rds:us-west-2:773286495109:cluster:pos...  \n..                                                ...  \n95  arn:aws:dynamodb:us-west-2:136981179349:table/...  \n96  arn:aws:dynamodb:us-west-2:136981179349:table/...  \n97  arn:aws:dynamodb:us-west-2:881194239943:table/...  \n98  arn:aws:dynamodb:us-west-2:881194239943:table/...  \n99  arn:aws:dynamodb:us-west-2:606103309715:table/...  \n\n[100 rows x 15 columns]",
      "text/html": "<div>\n<style scoped>\n    .dataframe tbody tr th:only-of-type {\n        vertical-align: middle;\n    }\n\n    .dataframe tbody tr th {\n        vertical-align: top;\n    }\n\n    .dataframe thead th {\n        text-align: right;\n    }\n</style>\n<table border=\"1\" class=\"dataframe\">\n  <thead>\n    <tr style=\"text-align: right;\">\n      <th></th>\n      <th>BillingAccountId</th>\n      <th>ChargeType</th>\n      <th>Provider</th>\n      <th>BillingPeriodEnd</th>\n      <th>ChargePeriodEnd</th>\n      <th>ServiceCategory</th>\n      <th>BillingCurrency</th>\n      <th>Region</th>\n      <th>ServiceName</th>\n      <th>AmortisedCost</th>\n      <th>ChargePeriodStart</th>\n      <th>BillingPeriodStart</th>\n      <th>InvoiceIssuer</th>\n      <th>AvailibityZone</th>\n      <th>ResourceId</th>\n    </tr>\n  </thead>\n  <tbody>\n    <tr>\n      <th>0</th>\n      <td>258510396080</td>\n      <td>Usage</td>\n      <td>AWS</td>\n      <td>2023-11-01 00:00:00+00:00</td>\n      <td>2023-10-02 00:00:00+00:00</td>\n      <td>Databases</td>\n      <td>USD</td>\n      <td>us-west-2</td>\n      <td>AmazonRDS</td>\n      <td>0.0</td>\n      <td>2023-10-01 00:00:00+00:00</td>\n      <td>2023-10-01 00:00:00+00:00</td>\n      <td>Amazon Web Services, Inc.</td>\n      <td>us-west-2</td>\n      <td>arn:aws:rds:us-west-2:442826362253:cluster:pos...</td>\n    </tr>\n    <tr>\n      <th>1</th>\n      <td>258510396080</td>\n      <td>Usage</td>\n      <td>AWS</td>\n      <td>2023-11-01 00:00:00+00:00</td>\n      <td>2023-10-02 00:00:00+00:00</td>\n      <td>Databases</td>\n      <td>USD</td>\n      <td>us-west-2</td>\n      <td>AmazonRDS</td>\n      <td>0.0</td>\n      <td>2023-10-01 00:00:00+00:00</td>\n      <td>2023-10-01 00:00:00+00:00</td>\n      <td>Amazon Web Services, Inc.</td>\n      <td>us-west-2</td>\n      <td>arn:aws:rds:us-west-2:731189341161:cluster:pos...</td>\n    </tr>\n    <tr>\n      <th>2</th>\n      <td>258510396080</td>\n      <td>Usage</td>\n      <td>AWS</td>\n      <td>2023-11-01 00:00:00+00:00</td>\n      <td>2023-10-04 00:00:00+00:00</td>\n      <td>Databases</td>\n      <td>USD</td>\n      <td>us-west-2</td>\n      <td>AmazonRDS</td>\n      <td>0.0</td>\n      <td>2023-10-03 00:00:00+00:00</td>\n      <td>2023-10-01 00:00:00+00:00</td>\n      <td>Amazon Web Services, Inc.</td>\n      <td>us-west-2</td>\n      <td>arn:aws:rds:us-west-2:153970874803:cluster:pos...</td>\n    </tr>\n    <tr>\n      <th>3</th>\n      <td>258510396080</td>\n      <td>Usage</td>\n      <td>AWS</td>\n      <td>2023-11-01 00:00:00+00:00</td>\n      <td>2023-10-05 00:00:00+00:00</td>\n      <td>Databases</td>\n      <td>USD</td>\n      <td>us-west-2</td>\n      <td>AmazonRDS</td>\n      <td>0.0</td>\n      <td>2023-10-04 00:00:00+00:00</td>\n      <td>2023-10-01 00:00:00+00:00</td>\n      <td>Amazon Web Services, Inc.</td>\n      <td>us-west-2</td>\n      <td>arn:aws:rds:us-west-2:371543525100:cluster:pos...</td>\n    </tr>\n    <tr>\n      <th>4</th>\n      <td>258510396080</td>\n      <td>Usage</td>\n      <td>AWS</td>\n      <td>2023-11-01 00:00:00+00:00</td>\n      <td>2023-10-05 00:00:00+00:00</td>\n      <td>Databases</td>\n      <td>USD</td>\n      <td>us-west-2</td>\n      <td>AmazonRDS</td>\n      <td>0.0</td>\n      <td>2023-10-04 00:00:00+00:00</td>\n      <td>2023-10-01 00:00:00+00:00</td>\n      <td>Amazon Web Services, Inc.</td>\n      <td>us-west-2</td>\n      <td>arn:aws:rds:us-west-2:773286495109:cluster:pos...</td>\n    </tr>\n    <tr>\n      <th>...</th>\n      <td>...</td>\n      <td>...</td>\n      <td>...</td>\n      <td>...</td>\n      <td>...</td>\n      <td>...</td>\n      <td>...</td>\n      <td>...</td>\n      <td>...</td>\n      <td>...</td>\n      <td>...</td>\n      <td>...</td>\n      <td>...</td>\n      <td>...</td>\n      <td>...</td>\n    </tr>\n    <tr>\n      <th>95</th>\n      <td>258510396080</td>\n      <td>Usage</td>\n      <td>AWS</td>\n      <td>2023-11-01 00:00:00+00:00</td>\n      <td>2023-10-19 01:00:00+00:00</td>\n      <td>Databases</td>\n      <td>USD</td>\n      <td>us-west-2</td>\n      <td>AmazonDynamoDB</td>\n      <td>0.0</td>\n      <td>2023-10-19 00:00:00+00:00</td>\n      <td>2023-10-01 00:00:00+00:00</td>\n      <td>Amazon Web Services, Inc.</td>\n      <td>us-west-2</td>\n      <td>arn:aws:dynamodb:us-west-2:136981179349:table/...</td>\n    </tr>\n    <tr>\n      <th>96</th>\n      <td>258510396080</td>\n      <td>Usage</td>\n      <td>AWS</td>\n      <td>2023-11-01 00:00:00+00:00</td>\n      <td>2023-10-20 21:00:00+00:00</td>\n      <td>Databases</td>\n      <td>USD</td>\n      <td>us-west-2</td>\n      <td>AmazonDynamoDB</td>\n      <td>0.0</td>\n      <td>2023-10-20 20:00:00+00:00</td>\n      <td>2023-10-01 00:00:00+00:00</td>\n      <td>Amazon Web Services, Inc.</td>\n      <td>us-west-2</td>\n      <td>arn:aws:dynamodb:us-west-2:136981179349:table/...</td>\n    </tr>\n    <tr>\n      <th>97</th>\n      <td>258510396080</td>\n      <td>Usage</td>\n      <td>AWS</td>\n      <td>2023-11-01 00:00:00+00:00</td>\n      <td>2023-10-20 23:00:00+00:00</td>\n      <td>Databases</td>\n      <td>USD</td>\n      <td>us-west-2</td>\n      <td>AmazonDynamoDB</td>\n      <td>0.0</td>\n      <td>2023-10-20 00:00:00+00:00</td>\n      <td>2023-10-01 00:00:00+00:00</td>\n      <td>Amazon Web Services, Inc.</td>\n      <td>us-west-2</td>\n      <td>arn:aws:dynamodb:us-west-2:881194239943:table/...</td>\n    </tr>\n    <tr>\n      <th>98</th>\n      <td>258510396080</td>\n      <td>Usage</td>\n      <td>AWS</td>\n      <td>2023-11-01 00:00:00+00:00</td>\n      <td>2023-10-21 00:00:00+00:00</td>\n      <td>Databases</td>\n      <td>USD</td>\n      <td>us-west-2</td>\n      <td>AmazonDynamoDB</td>\n      <td>0.0</td>\n      <td>2023-10-20 00:00:00+00:00</td>\n      <td>2023-10-01 00:00:00+00:00</td>\n      <td>Amazon Web Services, Inc.</td>\n      <td>us-west-2</td>\n      <td>arn:aws:dynamodb:us-west-2:881194239943:table/...</td>\n    </tr>\n    <tr>\n      <th>99</th>\n      <td>258510396080</td>\n      <td>Usage</td>\n      <td>AWS</td>\n      <td>2023-11-01 00:00:00+00:00</td>\n      <td>2023-10-21 20:00:00+00:00</td>\n      <td>Databases</td>\n      <td>USD</td>\n      <td>us-west-2</td>\n      <td>AmazonDynamoDB</td>\n      <td>0.0</td>\n      <td>2023-10-21 00:00:00+00:00</td>\n      <td>2023-10-01 00:00:00+00:00</td>\n      <td>Amazon Web Services, Inc.</td>\n      <td>us-west-2</td>\n      <td>arn:aws:dynamodb:us-west-2:606103309715:table/...</td>\n    </tr>\n  </tbody>\n</table>\n<p>100 rows × 15 columns</p>\n</div>"
     },
     "execution_count": 4,
     "metadata": {},
     "output_type": "execute_result"
    }
   ],
   "source": [
    "import pandas as pd\n",
    "pd.read_parquet(\"/tmp/converted_aws\")"
   ],
   "metadata": {
    "collapsed": false,
    "ExecuteTime": {
     "end_time": "2023-10-31T20:05:36.771721662Z",
     "start_time": "2023-10-31T20:05:36.738827683Z"
    }
   },
   "id": "80e7c58e43ae7d1c"
  },
  {
   "cell_type": "code",
   "execution_count": 1,
   "outputs": [
    {
     "ename": "NameError",
     "evalue": "name 'pd' is not defined",
     "output_type": "error",
     "traceback": [
      "\u001B[0;31m---------------------------------------------------------------------------\u001B[0m",
      "\u001B[0;31mNameError\u001B[0m                                 Traceback (most recent call last)",
      "Cell \u001B[0;32mIn[1], line 1\u001B[0m\n\u001B[0;32m----> 1\u001B[0m \u001B[38;5;28mlen\u001B[39m(\u001B[43mpd\u001B[49m\u001B[38;5;241m.\u001B[39mread_parquet(\u001B[38;5;124m\"\u001B[39m\u001B[38;5;124m/tmp/converted_aws\u001B[39m\u001B[38;5;124m\"\u001B[39m)\u001B[38;5;241m.\u001B[39mcolumns)\n",
      "\u001B[0;31mNameError\u001B[0m: name 'pd' is not defined"
     ]
    }
   ],
   "source": [
    "len(pd.read_parquet(\"/tmp/converted_aws\").columns)"
   ],
   "metadata": {
    "collapsed": false,
    "ExecuteTime": {
     "end_time": "2023-10-31T20:05:30.971685886Z",
     "start_time": "2023-10-31T20:05:30.926268270Z"
    }
   },
   "id": "fb524b4bfe7d359f"
  },
  {
   "cell_type": "code",
   "execution_count": null,
   "outputs": [],
   "source": [],
   "metadata": {
    "collapsed": false
   },
   "id": "c9c2a256bdbe1ad"
  }
 ],
 "metadata": {
  "kernelspec": {
   "display_name": "Python 3",
   "language": "python",
   "name": "python3"
  },
  "language_info": {
   "codemirror_mode": {
    "name": "ipython",
    "version": 2
   },
   "file_extension": ".py",
   "mimetype": "text/x-python",
   "name": "python",
   "nbconvert_exporter": "python",
   "pygments_lexer": "ipython2",
   "version": "2.7.6"
  }
 },
 "nbformat": 4,
 "nbformat_minor": 5
}
